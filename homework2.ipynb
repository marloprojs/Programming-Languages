{
 "cells": [
  {
   "cell_type": "code",
   "execution_count": 23,
   "metadata": {
    "deletable": false,
    "editable": false,
    "nbgrader": {
     "checksum": "2047270829115ddfa6f52ce79858ffea",
     "grade": false,
     "grade_id": "cell-597e59ae79505596",
     "locked": true,
     "schema_version": 1,
     "solution": false
    }
   },
   "outputs": [
    {
     "name": "stdout",
     "output_type": "stream",
     "text": [
      "Compiling hw2stdlib_new.sc\n"
     ]
    },
    {
     "data": {
      "text/plain": [
       "\u001b[32mimport \u001b[39m\u001b[36m$file.$            \n",
       "\u001b[39m\n",
       "\u001b[32mimport \u001b[39m\u001b[36mhw2stdlib_new._\u001b[39m"
      ]
     },
     "execution_count": 23,
     "metadata": {},
     "output_type": "execute_result"
    }
   ],
   "source": [
    "import $file.hw2stdlib_new\n",
    "import hw2stdlib_new._"
   ]
  },
  {
   "cell_type": "markdown",
   "metadata": {
    "deletable": false,
    "editable": false,
    "nbgrader": {
     "checksum": "1185103fcdbacc0ce7ce9af3a58fb3a0",
     "grade": false,
     "grade_id": "cell-2c05ba4d46efec6c",
     "locked": true,
     "schema_version": 1,
     "solution": false
    }
   },
   "source": [
    "# Homework 2\n",
    "\n",
    "Due 9/12 at 11:59pm\n",
    "\n",
    "## Submission Instructions\n",
    "Upload only this .ipynb file to Canvas. Do not add anything to hw2stdlib since you can't submit it.\n",
    "\n",
    "In this homework we will develop more useful functions for numbers as well as some of the functions on lists that we spoke about during lecture.\n",
    "\n",
    "## Arithmetic Functions\n",
    "\n",
    "### Problem 1 (5 Points)\n",
    "\n",
    "Write the minus function, which subtracts a natural number from another natural number. If the result would be less than zero then leave the answer as zero.\n"
   ]
  },
  {
   "cell_type": "code",
   "execution_count": 24,
   "metadata": {
    "deletable": false,
    "nbgrader": {
     "checksum": "fc8f33ac341611c32e0ba5e2cdfc69ce",
     "grade": false,
     "grade_id": "cell-19061b6ebc83ee13",
     "locked": false,
     "schema_version": 1,
     "solution": true
    }
   },
   "outputs": [
    {
     "data": {
      "text/plain": [
       "defined \u001b[32mfunction\u001b[39m \u001b[36mminus\u001b[39m"
      ]
     },
     "execution_count": 24,
     "metadata": {},
     "output_type": "execute_result"
    }
   ],
   "source": [
    "def minus(x : Nat, y : Nat) : Nat = (x, y) match {\n",
    "    case (Zero, y) => Zero\n",
    "    case (x, Zero) => x\n",
    "    case (Succ(z), Succ(y))  => minus(z, y)\n",
    "}\n",
    "    "
   ]
  },
  {
   "cell_type": "code",
   "execution_count": 25,
   "metadata": {
    "deletable": false,
    "editable": false,
    "nbgrader": {
     "checksum": "d93bd66060829d4a8b1357d9eeb059ce",
     "grade": true,
     "grade_id": "cell-80b015bfaabd7c53",
     "locked": true,
     "points": 3,
     "schema_version": 1,
     "solution": false
    }
   },
   "outputs": [
    {
     "name": "stdout",
     "output_type": "stream",
     "text": [
      "\n",
      "*** Tests Passed (3 points) ***\n"
     ]
    }
   ],
   "source": [
    "assert(minus(four, two) == two, 1)\n",
    "assert(minus(four, Zero) == four, 2)\n",
    "assert(minus(Zero, four) == Zero, 3)\n",
    "passed(3)"
   ]
  },
  {
   "cell_type": "code",
   "execution_count": 25,
   "metadata": {
    "deletable": false,
    "editable": false,
    "nbgrader": {
     "checksum": "6f8cf6b08de343fbe7d2dc7704568e31",
     "grade": true,
     "grade_id": "cell-3fb81b3d6c3bdcd6",
     "locked": true,
     "points": 2,
     "schema_version": 1,
     "solution": false
    }
   },
   "outputs": [],
   "source": [
    "// HIDDEN TEST (2 pts)"
   ]
  },
  {
   "cell_type": "markdown",
   "metadata": {
    "deletable": false,
    "editable": false,
    "nbgrader": {
     "checksum": "6b7ccc9ba3bb09c0b6661c95dc0e9a01",
     "grade": false,
     "grade_id": "cell-f50332054fb1b4b6",
     "locked": true,
     "schema_version": 1,
     "solution": false
    }
   },
   "source": [
    "### Problem 2 (5 points)\n",
    "\n",
    "Define the $\\texttt{pow}$ function, which raises a natural number to some power. Notationally: \n",
    "\n",
    "$$\n",
    "f\\ x\\ y = x^y\n",
    "$$\n",
    "\n",
    "Hint: Use the mult function from the stdlib for help"
   ]
  },
  {
   "cell_type": "code",
   "execution_count": 26,
   "metadata": {
    "deletable": false,
    "nbgrader": {
     "checksum": "4d2c6567be70bd9b6de759f086d66a0f",
     "grade": false,
     "grade_id": "cell-cf03509753bbf640",
     "locked": false,
     "schema_version": 1,
     "solution": true
    }
   },
   "outputs": [
    {
     "data": {
      "text/plain": [
       "defined \u001b[32mfunction\u001b[39m \u001b[36mpow\u001b[39m"
      ]
     },
     "execution_count": 26,
     "metadata": {},
     "output_type": "execute_result"
    }
   ],
   "source": [
    "def pow(x : Nat, y : Nat) : Nat = y match {\n",
    "    case Zero    => one\n",
    "    case Succ(z) => mult(pow(x, z), x)\n",
    "}"
   ]
  },
  {
   "cell_type": "code",
   "execution_count": 27,
   "metadata": {
    "deletable": false,
    "editable": false,
    "nbgrader": {
     "checksum": "a706dee8389f4fe5443b134195de68c7",
     "grade": true,
     "grade_id": "cell-cc0a85f98f9550b1",
     "locked": true,
     "points": 4,
     "schema_version": 1,
     "solution": false
    }
   },
   "outputs": [
    {
     "name": "stdout",
     "output_type": "stream",
     "text": [
      "\n",
      "*** Tests Passed (4 points) ***\n"
     ]
    }
   ],
   "source": [
    "assert(pow(three, two) == nine, 1)\n",
    "assert(pow(four, Zero) == one, 2)\n",
    "assert(pow(two, two) == four, 3)\n",
    "passed(4)"
   ]
  },
  {
   "cell_type": "code",
   "execution_count": 27,
   "metadata": {
    "deletable": false,
    "editable": false,
    "nbgrader": {
     "checksum": "478695a14d3cc96afbcc3625c335d75e",
     "grade": true,
     "grade_id": "cell-e4f7652875d80790",
     "locked": true,
     "points": 1,
     "schema_version": 1,
     "solution": false
    }
   },
   "outputs": [],
   "source": [
    "// HIDDEN TEST (1 pt)"
   ]
  },
  {
   "cell_type": "markdown",
   "metadata": {
    "deletable": false,
    "editable": false,
    "nbgrader": {
     "checksum": "4577e9957cc4a941113d93713c5df737",
     "grade": false,
     "grade_id": "cell-2f979fc122106f8b",
     "locked": true,
     "schema_version": 1,
     "solution": false
    }
   },
   "source": [
    "### Problem 3 (5 points)\n",
    "\n",
    "Write the \"equals to\" function for numbers. This function should return $True$ if $x == y$ and $False$ otherwise."
   ]
  },
  {
   "cell_type": "code",
   "execution_count": 28,
   "metadata": {
    "deletable": false,
    "nbgrader": {
     "checksum": "6047195b29a183efdd92659ea6c084ac",
     "grade": false,
     "grade_id": "cell-5c44d445fb4cbec0",
     "locked": false,
     "schema_version": 1,
     "solution": true
    }
   },
   "outputs": [
    {
     "data": {
      "text/plain": [
       "defined \u001b[32mfunction\u001b[39m \u001b[36meq_nat\u001b[39m"
      ]
     },
     "execution_count": 28,
     "metadata": {},
     "output_type": "execute_result"
    }
   ],
   "source": [
    "def eq_nat(x : Nat, y : Nat) : Bool = (x, y) match {\n",
    "    case (Zero, Zero) => True\n",
    "    case (x, Zero) => False\n",
    "    case (Zero, y) => False\n",
    "    case (Succ(x), Succ(y)) => eq_nat(x, y)\n",
    "}\n"
   ]
  },
  {
   "cell_type": "code",
   "execution_count": 29,
   "metadata": {
    "deletable": false,
    "editable": false,
    "nbgrader": {
     "checksum": "65b9dd6e6c75a48ff5b78f613ec7092b",
     "grade": true,
     "grade_id": "cell-cc0a85f98f9550b2",
     "locked": true,
     "points": 4,
     "schema_version": 1,
     "solution": false
    }
   },
   "outputs": [
    {
     "name": "stdout",
     "output_type": "stream",
     "text": [
      "\n",
      "*** Tests Passed (4 points) ***\n"
     ]
    }
   ],
   "source": [
    "assert(eq_nat(four, four) == True, 1)\n",
    "assert(eq_nat(four, Zero) == False, 2)\n",
    "assert(eq_nat(eight, nine) == False, 3)\n",
    "assert(eq_nat(nine, nine) == True, 4)\n",
    "passed(4)"
   ]
  },
  {
   "cell_type": "code",
   "execution_count": 29,
   "metadata": {
    "deletable": false,
    "editable": false,
    "nbgrader": {
     "checksum": "775d9caa38b20ae77618a3825698b3e7",
     "grade": true,
     "grade_id": "cell-e4f7652875d80791",
     "locked": true,
     "points": 1,
     "schema_version": 1,
     "solution": false
    }
   },
   "outputs": [],
   "source": [
    "// HIDDEN TEST (1 pt)"
   ]
  },
  {
   "cell_type": "markdown",
   "metadata": {
    "deletable": false,
    "editable": false,
    "nbgrader": {
     "checksum": "08cfce3c273656f89efd532554b947ec",
     "grade": false,
     "grade_id": "cell-ffe932a84e195bfc",
     "locked": true,
     "schema_version": 1,
     "solution": false
    }
   },
   "source": [
    "## Functions on Number Lists\n",
    "\n",
    "### Problem 4 (5 pts)\n",
    "\n",
    "Write the sum function. This function should take a list of natural numbers and return their sum. Here is the type:\n",
    "\n",
    "$$\n",
    "sum : \\text{List}\\ \\mathbb{N} \\rightarrow \\mathbb{N}\n",
    "$$\n",
    "\n",
    "Hint: An empty list should have sum 0."
   ]
  },
  {
   "cell_type": "code",
   "execution_count": 30,
   "metadata": {
    "deletable": false,
    "nbgrader": {
     "checksum": "a7ff6c753c39a52dd19fb558ca52a03f",
     "grade": false,
     "grade_id": "cell-1026d25f142fc212",
     "locked": false,
     "schema_version": 1,
     "solution": true
    }
   },
   "outputs": [
    {
     "data": {
      "text/plain": [
       "defined \u001b[32mfunction\u001b[39m \u001b[36msum\u001b[39m"
      ]
     },
     "execution_count": 30,
     "metadata": {},
     "output_type": "execute_result"
    }
   ],
   "source": [
    "def sum(l : List[Nat]) : Nat = l match {\n",
    "    case Empty => Zero\n",
    "    case Cons(x, xs) => plus(x, sum(xs))\n",
    "}"
   ]
  },
  {
   "cell_type": "code",
   "execution_count": 31,
   "metadata": {
    "deletable": false,
    "editable": false,
    "nbgrader": {
     "checksum": "31658c3961b7f6a16299b5c2df7122ed",
     "grade": true,
     "grade_id": "cell-c8396ec50b153d54",
     "locked": true,
     "points": 4,
     "schema_version": 1,
     "solution": false
    }
   },
   "outputs": [
    {
     "name": "stdout",
     "output_type": "stream",
     "text": [
      "\n",
      "*** Tests Passed (4 points) ***\n"
     ]
    }
   ],
   "source": [
    "assert(sum(Cons(one, Empty)) == one, 1)\n",
    "assert(sum(Cons(one, Cons(seven, Cons(two, Empty)))) == ten, 2)\n",
    "passed(4)"
   ]
  },
  {
   "cell_type": "code",
   "execution_count": 31,
   "metadata": {
    "deletable": false,
    "editable": false,
    "nbgrader": {
     "checksum": "01b5108f651c8193fc65074e18607316",
     "grade": true,
     "grade_id": "cell-d118cae84cab07ee",
     "locked": true,
     "points": 1,
     "schema_version": 1,
     "solution": false
    }
   },
   "outputs": [],
   "source": [
    "// HIDDEN TEST (1 pt)"
   ]
  },
  {
   "cell_type": "markdown",
   "metadata": {
    "deletable": false,
    "editable": false,
    "nbgrader": {
     "checksum": "024e275c78c5edc7cc719a6b8517cd0c",
     "grade": false,
     "grade_id": "cell-ddff4bb1967d9dfb",
     "locked": true,
     "schema_version": 1,
     "solution": false
    }
   },
   "source": [
    "### Problem 5 (5 pts)\n",
    "\n",
    "Write the product function. This function should take alist of natural numbers and return their product. Here is the type:\n",
    "\n",
    "$$\n",
    "prod : \\text{List}\\ \\mathbb{N} \\rightarrow \\mathbb{N}\n",
    "$$\n",
    "\n",
    "Hint: An empty list should have product 1."
   ]
  },
  {
   "cell_type": "code",
   "execution_count": 32,
   "metadata": {
    "deletable": false,
    "nbgrader": {
     "checksum": "17e2552f140b3c591e230eab44341dfb",
     "grade": false,
     "grade_id": "cell-6a2caa631bc53781",
     "locked": false,
     "schema_version": 1,
     "solution": true
    }
   },
   "outputs": [
    {
     "data": {
      "text/plain": [
       "defined \u001b[32mfunction\u001b[39m \u001b[36mprod\u001b[39m"
      ]
     },
     "execution_count": 32,
     "metadata": {},
     "output_type": "execute_result"
    }
   ],
   "source": [
    "def prod(l : List[Nat]) : Nat = l match {\n",
    "    case Empty => one\n",
    "    case Cons(x, xs) => mult(x, prod(xs))\n",
    "}"
   ]
  },
  {
   "cell_type": "code",
   "execution_count": 33,
   "metadata": {
    "deletable": false,
    "editable": false,
    "nbgrader": {
     "checksum": "f5e7b9103941fbb7d64f8472e1c5774b",
     "grade": true,
     "grade_id": "cell-cc0a85f98f9550b3",
     "locked": true,
     "points": 4,
     "schema_version": 1,
     "solution": false
    }
   },
   "outputs": [
    {
     "name": "stdout",
     "output_type": "stream",
     "text": [
      "\n",
      "*** Tests Passed (4 points) ***\n"
     ]
    },
    {
     "data": {
      "text/plain": [
       "\u001b[36mfourteen\u001b[39m: \u001b[32mSucc\u001b[39m = Succ(Succ(Succ(Succ(Succ(Succ(Succ(Succ(Succ(Succ(Succ(Succ(Succ(Succ(Zero))))))))))))))"
      ]
     },
     "execution_count": 33,
     "metadata": {},
     "output_type": "execute_result"
    }
   ],
   "source": [
    "assert(prod(Cons(one, Empty)) == one, 1)\n",
    "val fourteen = Succ(Succ(Succ(Succ(ten))))\n",
    "assert(prod(Cons(one, Cons(seven, Cons(two, Empty)))) == fourteen, 2)\n",
    "passed(4)"
   ]
  },
  {
   "cell_type": "code",
   "execution_count": 33,
   "metadata": {
    "deletable": false,
    "editable": false,
    "nbgrader": {
     "checksum": "d8e7c7411247a5f7920311cdeddda213",
     "grade": true,
     "grade_id": "cell-e4f7652875d80792",
     "locked": true,
     "points": 1,
     "schema_version": 1,
     "solution": false
    }
   },
   "outputs": [],
   "source": [
    "// HIDDEN TEST (1 pt)"
   ]
  },
  {
   "cell_type": "markdown",
   "metadata": {
    "deletable": false,
    "editable": false,
    "nbgrader": {
     "checksum": "6df2eeeaa3826002b71eb9b7368e8b68",
     "grade": false,
     "grade_id": "cell-f9c78d2de570d140",
     "locked": true,
     "schema_version": 1,
     "solution": false
    }
   },
   "source": [
    "### Problem 6 (6 pts)\n",
    "\n",
    "Write the function that tells us if a given natural number is in a list of natural numbers. (you will need to use the equals function defined in problem 3)\n",
    "\n",
    "$$\n",
    "in : \\mathbb{N} \\rightarrow \\text{List}\\ \\mathbb{N} \\rightarrow \\mathbb{B}\n",
    "$$"
   ]
  },
  {
   "cell_type": "code",
   "execution_count": 34,
   "metadata": {
    "deletable": false,
    "nbgrader": {
     "checksum": "29ab0c89da2560e85ed4fc5b047cc887",
     "grade": false,
     "grade_id": "cell-603f77bab9b8f27a",
     "locked": false,
     "schema_version": 1,
     "solution": true
    }
   },
   "outputs": [
    {
     "data": {
      "text/plain": [
       "defined \u001b[32mfunction\u001b[39m \u001b[36min\u001b[39m"
      ]
     },
     "execution_count": 34,
     "metadata": {},
     "output_type": "execute_result"
    }
   ],
   "source": [
    "def in(x : Nat, l : List[Nat]) : Bool = l match {\n",
    "    case Empty => False\n",
    "    case Cons(b, Empty) => eq_nat(b, x)\n",
    "    case Cons(z, zs) => or(eq_nat(z, x), in(x, zs))\n",
    "}"
   ]
  },
  {
   "cell_type": "code",
   "execution_count": 35,
   "metadata": {
    "deletable": false,
    "editable": false,
    "nbgrader": {
     "checksum": "5111137acc9fbc1033e2f2e640bdcb48",
     "grade": true,
     "grade_id": "cell-b9d72e55abc06dd4",
     "locked": true,
     "points": 6,
     "schema_version": 1,
     "solution": false
    }
   },
   "outputs": [
    {
     "name": "stdout",
     "output_type": "stream",
     "text": [
      "\n",
      "*** Tests Passed (6 points) ***\n"
     ]
    }
   ],
   "source": [
    "assert(in(one, Cons(one, Empty)) == True, 1)\n",
    "assert(in(seven, Cons(one, Cons(seven, Cons(two, Empty)))) == True, 2)\n",
    "assert(in(eight, Cons(one, Cons(seven, Cons(two, Empty)))) == False, 3)\n",
    "assert(in(seven, Empty) == False, 4)\n",
    "passed(6)"
   ]
  },
  {
   "cell_type": "code",
   "execution_count": null,
   "metadata": {},
   "outputs": [],
   "source": []
  }
 ],
 "metadata": {
  "kernelspec": {
   "display_name": "Scala",
   "language": "scala",
   "name": "scala"
  },
  "language_info": {
   "codemirror_mode": "text/x-scala",
   "file_extension": ".scala",
   "mimetype": "text/x-scala",
   "name": "scala211",
   "nbconvert_exporter": "script",
   "pygments_lexer": "scala",
   "version": "2.11.11"
  }
 },
 "nbformat": 4,
 "nbformat_minor": 2
}
