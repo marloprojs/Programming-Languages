{
 "cells": [
  {
   "cell_type": "code",
   "execution_count": 1,
   "metadata": {
    "deletable": false,
    "editable": false,
    "nbgrader": {
     "checksum": "48402e2119c116d6c9a13ebbe4830cd4",
     "grade": false,
     "grade_id": "cell-f9e779a3cbce5436",
     "locked": true,
     "schema_version": 1,
     "solution": false
    }
   },
   "outputs": [
    {
     "name": "stdout",
     "output_type": "stream",
     "text": [
      "Compiling /home/user/Downloads/Assignment9/hw9stdlib.sc"
     ]
    },
    {
     "data": {
      "text/plain": [
       "\u001b[32mimport \u001b[39m\u001b[36m$file.$        \n",
       "\u001b[39m\n",
       "\u001b[32mimport \u001b[39m\u001b[36mhw9stdlib._\u001b[39m"
      ]
     },
     "execution_count": 1,
     "metadata": {},
     "output_type": "execute_result"
    }
   ],
   "source": [
    "import $file.hw9stdlib\n",
    "import hw9stdlib._"
   ]
  },
  {
   "cell_type": "code",
   "execution_count": 2,
   "metadata": {
    "deletable": false,
    "editable": false,
    "nbgrader": {
     "checksum": "5728402cbcccc605f3beda8dc075b09a",
     "grade": false,
     "grade_id": "cell-ea6a90f6b6cad572",
     "locked": true,
     "schema_version": 1,
     "solution": false
    }
   },
   "outputs": [
    {
     "data": {
      "text/plain": [
       "defined \u001b[32mtype\u001b[39m \u001b[36mParser\u001b[39m\n",
       "defined \u001b[32mfunction\u001b[39m \u001b[36mchar\u001b[39m\n",
       "defined \u001b[32mfunction\u001b[39m \u001b[36msuccess\u001b[39m\n",
       "defined \u001b[32mfunction\u001b[39m \u001b[36mfailure\u001b[39m\n",
       "defined \u001b[32mfunction\u001b[39m \u001b[36mchoose\u001b[39m\n",
       "defined \u001b[32mfunction\u001b[39m \u001b[36mrunParser\u001b[39m\n",
       "defined \u001b[32mfunction\u001b[39m \u001b[36msatisfies\u001b[39m\n",
       "defined \u001b[32mfunction\u001b[39m \u001b[36mbind\u001b[39m\n",
       "defined \u001b[32mfunction\u001b[39m \u001b[36mstringL\u001b[39m\n",
       "defined \u001b[32mfunction\u001b[39m \u001b[36mstring\u001b[39m\n",
       "defined \u001b[32mfunction\u001b[39m \u001b[36mmapParser\u001b[39m\n",
       "defined \u001b[32mfunction\u001b[39m \u001b[36moption\u001b[39m\n",
       "defined \u001b[32mfunction\u001b[39m \u001b[36mwhitespaceChar\u001b[39m\n",
       "defined \u001b[32mfunction\u001b[39m \u001b[36mmany\u001b[39m\n",
       "defined \u001b[32mfunction\u001b[39m \u001b[36mwhitespace\u001b[39m\n",
       "defined \u001b[32mfunction\u001b[39m \u001b[36mmaybeWhitespace\u001b[39m\n",
       "defined \u001b[32mfunction\u001b[39m \u001b[36mdigit\u001b[39m\n",
       "defined \u001b[32mfunction\u001b[39m \u001b[36mnumString\u001b[39m\n",
       "defined \u001b[32mfunction\u001b[39m \u001b[36mdigitToNat\u001b[39m\n",
       "defined \u001b[32mfunction\u001b[39m \u001b[36mstringToNat\u001b[39m\n",
       "defined \u001b[32mfunction\u001b[39m \u001b[36mnumber\u001b[39m"
      ]
     },
     "execution_count": 2,
     "metadata": {},
     "output_type": "execute_result"
    }
   ],
   "source": [
    "type Parser[S,D] = List[S] => List[(D, List[S])]\n",
    "\n",
    "def char(c : Char) : Parser[Char,Char] = \n",
    "(ss : List[Char]) => ss match {\n",
    "    case Empty      => Empty\n",
    "    case Cons(s,ss) => char_eq(s,c) match {\n",
    "        case True  => singleton((s, ss))\n",
    "        case False => Empty\n",
    "    }\n",
    "}\n",
    "\n",
    "def success[S, D](x : D) : Parser[S, D] = \n",
    "  (ss : List[S]) => singleton((x, ss))\n",
    "\n",
    "def failure[S, D]() : Parser[S,D] = (ss : List[S]) => Empty\n",
    "\n",
    "def choose[S, D](p : Parser[S, D], q : Parser[S, D]) : Parser[S, D] = (ss : List[S]) =>\n",
    "{\n",
    "    val p_res = p(ss)\n",
    "    val q_res = q(ss)\n",
    "    append(p_res, q_res)\n",
    "} \n",
    "\n",
    "def runParser[D](p : Parser[Char, D], s : String) : Maybe[D] = p(string_to_list(s)) match {\n",
    "    case Empty                   => None\n",
    "    case Cons((x, Empty), Empty) => Just(x)\n",
    "    case _                       => None\n",
    "}\n",
    "\n",
    "def satisfies[S](p : (S => Bool)) : Parser[S, S] = (xs : List[S]) => xs match {\n",
    "    case Empty       => Empty\n",
    "    case Cons(x, xs) => p(x) match{\n",
    "        case True  => singleton((x,xs))\n",
    "        case False => Empty\n",
    "    } \n",
    "}\n",
    "\n",
    "def bind[S, D, E](p : Parser[S,D], q : (D => Parser[S,E]) ) : Parser[S,E] = \n",
    "  (ss : List[S]) => {\n",
    "      val join = (res : (D, List[S])) => res match {case (d, ss2) => q(d)(ss2)}\n",
    "      concatMap(join, p(ss))\n",
    "  } \n",
    "\n",
    "def stringL(ss : List[Char]) : Parser[Char, List[Char]] = ss match {\n",
    "    case Empty      => success(Empty)\n",
    "    case Cons(s,ss) =>        bind(char(s), \n",
    "         (c : Char)        => bind(stringL(ss),\n",
    "         (cs : List[Char]) => success(Cons(c,cs)) ))\n",
    "}\n",
    "\n",
    "def string(str : String) : Parser[Char, List[Char]] = stringL(string_to_list(str))\n",
    "\n",
    "def mapParser[S,A,B](f : (A => B), p : Parser[S,A]) : Parser[S,B] = bind(p, (result : A) => success(f(result)))\n",
    "\n",
    "def option[S, D](p : Parser[S, D], q : Parser[S, D]) : Parser[S, D] = (ss : List[S]) => \n",
    "  p(ss) match {\n",
    "      case Empty => q(ss)\n",
    "      case res   => res\n",
    "  }\n",
    "\n",
    "def whitespaceChar : Parser[Char,Char] = choose(char(' '),\n",
    "                                         choose(char('\\n'), \n",
    "                                         choose(char('\\r'), \n",
    "                                                char('\\t'))))\n",
    "\n",
    "def many[S,D](p : Parser[S,D]) : Parser[S, List[D]] = option(\n",
    "                                                        bind(p, \n",
    "                                                            (x : D) => bind(many(p),\n",
    "                                                            (xs : List[D]) => success(Cons(x,xs))))\n",
    "                                                       , success(Empty)\n",
    "                                                       )\n",
    "\n",
    "// A whitespace parser which requires at least one whitespace character\n",
    "// This is used to parse spaces between lexical elements\n",
    "def whitespace : Parser[Char, List[Char]] = bind(whitespaceChar, \n",
    "                                                 (x : Char)  => bind(many(whitespaceChar),\n",
    "                                                 (xs : List[Char]) => success(Cons(x,xs))))\n",
    "\n",
    "// A whitespace parser for zero or more spaces\n",
    "def maybeWhitespace : Parser[Char, List[Char]] = many(whitespaceChar)\n",
    "\n",
    "def digit : Parser[Char, Char] = option(char('0'),\n",
    "                                 option(char('1'),\n",
    "                                 option(char('2'),\n",
    "                                 option(char('3'),\n",
    "                                 option(char('4'),\n",
    "                                 option(char('5'),\n",
    "                                 option(char('6'),\n",
    "                                 option(char('7'),\n",
    "                                 option(char('8'),\n",
    "                                        char('9'))))))))))\n",
    "\n",
    "def numString : Parser[Char, List[Char]] = many(digit)\n",
    "\n",
    "def digitToNat(c : Char) : Nat = c match {\n",
    "    case '0' => Zero\n",
    "    case '1' => one\n",
    "    case '2' => two\n",
    "    case '3' => three\n",
    "    case '4' => four\n",
    "    case '5' => five\n",
    "    case '6' => six\n",
    "    case '7' => seven\n",
    "    case '8' => eight\n",
    "    case '9' => nine\n",
    "}\n",
    "\n",
    "def stringToNat(xs : List[Char]) : Nat = \n",
    "  fold( (x : Nat, acc : Nat) => nat_plus(x, nat_mult(acc, ten)) ,Zero, map(digitToNat, xs))\n",
    "\n",
    "def number : Parser[Char, Nat] = bind(numString,\n",
    "                                     (ss : List[Char]) => ss match {\n",
    "                                         case Empty       => failure()\n",
    "                                         case Cons(x, xs) => success(stringToNat(ss))\n",
    "                                     })"
   ]
  },
  {
   "cell_type": "markdown",
   "metadata": {
    "deletable": false,
    "editable": false,
    "nbgrader": {
     "checksum": "a1729c914b4cd2d6c0bbe6a2e394fb2f",
     "grade": false,
     "grade_id": "cell-09901798f428e3eb",
     "locked": true,
     "schema_version": 1,
     "solution": false
    }
   },
   "source": [
    "# Homework 9 - The Lettuce Parser\n",
    "\n",
    "In the next 2 homeworks we will write a complete parser for Lettuce and then we will have a complete programming language.\n",
    "\n",
    "The development process for the parser will go something like this:\n",
    "\n",
    "1. Part A - Develop a lexer for Lettuce\n",
    "2. Part B - Write the parser using the lexical grammar\n",
    "3. Part C - Hook it together with the lettuce evaluation function to have a complete interpreter\n",
    "\n"
   ]
  },
  {
   "cell_type": "markdown",
   "metadata": {
    "deletable": false,
    "editable": false,
    "nbgrader": {
     "checksum": "785c6ae4c2aae77c781bcd13ec64a185",
     "grade": false,
     "grade_id": "cell-bd3c9cd033541206",
     "locked": true,
     "schema_version": 1,
     "solution": false
    }
   },
   "source": [
    " ## Part A: The Lexer\n",
    "\n",
    "We will start by writing a lexer for lettuce. Let's begin by defining the Lexical Grammar for the language:\n",
    "\n",
    "$$\n",
    "\\begin{align}\n",
    "    \\textbf{Lex} ::=&\\ \\text{Keyword}\\ \\textbf{Keyword}\\\\\n",
    "    \\mid&\\ \\text{Literal}\\ \\textbf{Literal}\\\\\n",
    "    \\mid &\\ \\text{Identifier}\\ \\textbf{String}\\\\\n",
    "    \\mid &\\ \\text{Operator}\\ \\textbf{String}\\\\\n",
    "    \\mid&\\ \\text{OpenParen}\\\\\n",
    "    \\mid&\\ \\text{CloseParen}\n",
    "\\end{align}\n",
    "$$\n",
    "\n",
    "$$\n",
    "\\begin{align}\n",
    "    \\textbf{Keyword} ::=&\\ \\text{KWFunction}\\\\\n",
    "    \\mid &\\ \\text{KWLet}\\\\\n",
    "    \\mid &\\ \\text{KWIn}\\\\\n",
    "    \\mid &\\ \\text{KWRec}\\\\\n",
    "    \\mid &\\ \\text{KWIf}\\\\\n",
    "    \\mid &\\ \\text{KWThen}\\\\\n",
    "    \\mid &\\ \\text{KWElse}\\\\\n",
    "\\end{align}\n",
    "$$\n",
    "\n",
    "$$\n",
    "\\begin{align}\n",
    "    \\textbf{Literal} ::=&\\ \\text{NumLiteral}\\ \\mathbb{N}\\\\\n",
    "    \\mid &\\ \\text{BoolLiteral}\\ \\mathbb{B}\\\\\n",
    "\\end{align}\n",
    "$$"
   ]
  },
  {
   "cell_type": "code",
   "execution_count": 3,
   "metadata": {
    "deletable": false,
    "editable": false,
    "nbgrader": {
     "checksum": "9ca45f289cdc41e46bb13990ed9901ef",
     "grade": false,
     "grade_id": "cell-823419bbe79b582e",
     "locked": true,
     "schema_version": 1,
     "solution": false
    }
   },
   "outputs": [
    {
     "data": {
      "text/plain": [
       "defined \u001b[32mtrait\u001b[39m \u001b[36mKW\u001b[39m\n",
       "defined \u001b[32mobject\u001b[39m \u001b[36mKWFunction\u001b[39m\n",
       "defined \u001b[32mobject\u001b[39m \u001b[36mKWLet\u001b[39m\n",
       "defined \u001b[32mobject\u001b[39m \u001b[36mKWIn\u001b[39m\n",
       "defined \u001b[32mobject\u001b[39m \u001b[36mKWRec\u001b[39m\n",
       "defined \u001b[32mobject\u001b[39m \u001b[36mKWIf\u001b[39m\n",
       "defined \u001b[32mobject\u001b[39m \u001b[36mKWThen\u001b[39m\n",
       "defined \u001b[32mobject\u001b[39m \u001b[36mKWElse\u001b[39m\n",
       "defined \u001b[32mtrait\u001b[39m \u001b[36mLit\u001b[39m\n",
       "defined \u001b[32mclass\u001b[39m \u001b[36mNumLiteral\u001b[39m\n",
       "defined \u001b[32mclass\u001b[39m \u001b[36mBoolLiteral\u001b[39m\n",
       "defined \u001b[32mtrait\u001b[39m \u001b[36mLex\u001b[39m\n",
       "defined \u001b[32mclass\u001b[39m \u001b[36mIdentifier\u001b[39m\n",
       "defined \u001b[32mclass\u001b[39m \u001b[36mKeyword\u001b[39m\n",
       "defined \u001b[32mclass\u001b[39m \u001b[36mOperator\u001b[39m\n",
       "defined \u001b[32mclass\u001b[39m \u001b[36mLiteral\u001b[39m\n",
       "defined \u001b[32mclass\u001b[39m \u001b[36mComment\u001b[39m\n",
       "defined \u001b[32mobject\u001b[39m \u001b[36mOpenParen\u001b[39m\n",
       "defined \u001b[32mobject\u001b[39m \u001b[36mCloseParen\u001b[39m"
      ]
     },
     "execution_count": 3,
     "metadata": {},
     "output_type": "execute_result"
    }
   ],
   "source": [
    "sealed trait KW\n",
    "case object KWFunction extends KW\n",
    "case object KWLet extends KW\n",
    "case object KWIn extends KW\n",
    "case object KWRec extends KW\n",
    "case object KWIf extends KW\n",
    "case object KWThen extends KW\n",
    "case object KWElse extends KW\n",
    "\n",
    "sealed trait Lit\n",
    "case class NumLiteral(x : Nat) extends Lit\n",
    "case class BoolLiteral(x : Bool) extends Lit\n",
    "\n",
    "sealed trait Lex \n",
    "case class Identifier(s : List[Char]) extends Lex\n",
    "case class Keyword(k : KW) extends Lex\n",
    "case class Operator(s : List[Char]) extends Lex\n",
    "case class Literal(l : Lit) extends Lex\n",
    "case class Comment(s : List[Char]) extends Lex \n",
    "case object OpenParen extends Lex\n",
    "case object CloseParen extends Lex"
   ]
  },
  {
   "cell_type": "markdown",
   "metadata": {
    "deletable": false,
    "editable": false,
    "nbgrader": {
     "checksum": "66c28f371f26fd40b2f87e7aa999079d",
     "grade": false,
     "grade_id": "cell-b9f44f4f3506defd",
     "locked": true,
     "schema_version": 1,
     "solution": false
    }
   },
   "source": [
    "### Lexing Keywords (5 points)\n",
    "\n",
    "We will write our lexer by combining a bunch of smaller lexing parsers. Let's start by defining the lexer for keywords.\n",
    "\n",
    "We will begin by defining separate parsers for each keyword and then combine them with `option`. Below are the definitions for the `let`, `function`, and `rec` keywords."
   ]
  },
  {
   "cell_type": "code",
   "execution_count": 4,
   "metadata": {
    "deletable": false,
    "editable": false,
    "nbgrader": {
     "checksum": "1acf9aeef7174a28bff6789cad1a24bc",
     "grade": false,
     "grade_id": "cell-89ef304f6c24ea5c",
     "locked": true,
     "schema_version": 1,
     "solution": false
    }
   },
   "outputs": [
    {
     "data": {
      "text/plain": [
       "defined \u001b[32mfunction\u001b[39m \u001b[36mpLet1\u001b[39m\n",
       "defined \u001b[32mfunction\u001b[39m \u001b[36mpFunc1\u001b[39m\n",
       "defined \u001b[32mfunction\u001b[39m \u001b[36mpRec1\u001b[39m\n",
       "defined \u001b[32mfunction\u001b[39m \u001b[36mpIn1\u001b[39m"
      ]
     },
     "execution_count": 4,
     "metadata": {},
     "output_type": "execute_result"
    }
   ],
   "source": [
    "def pLet1 : Parser[Char, Lex] = bind(string(\"let\"), \n",
    "                                    (s : List[Char]) => success(Keyword(KWLet)))\n",
    "\n",
    "def pFunc1 : Parser[Char, Lex] = bind(string(\"function\"), \n",
    "                                    (s : List[Char]) => success(Keyword(KWFunction)))\n",
    "\n",
    "def pRec1 : Parser[Char, Lex] = bind(string(\"rec\"), \n",
    "                                    (s : List[Char]) => success(Keyword(KWRec)))\n",
    "\n",
    "def pIn1 : Parser[Char, Lex] = bind(string(\"in\"), \n",
    "                                    (s : List[Char]) => success(Keyword(KWIn)))\n",
    "\n",
    "// if, then, and else have a similiar definition"
   ]
  },
  {
   "cell_type": "markdown",
   "metadata": {
    "deletable": false,
    "editable": false,
    "nbgrader": {
     "checksum": "64563a16c528c065df432730e673b2b4",
     "grade": false,
     "grade_id": "cell-6b5c92204f4df265",
     "locked": true,
     "schema_version": 1,
     "solution": false
    }
   },
   "source": [
    "These parser all have a common pattern. This is that we parse the keyword and then discard the results in favor of a constructor that represents it. Because we don't use the result of the `string` part of the parse we can define a handy shorthand function to do this for us. We will call this function `const`."
   ]
  },
  {
   "cell_type": "code",
   "execution_count": 5,
   "metadata": {
    "deletable": false,
    "editable": false,
    "nbgrader": {
     "checksum": "2df834e22c20075917252dfd3702f101",
     "grade": false,
     "grade_id": "cell-85ca4c9eeb3533b5",
     "locked": true,
     "schema_version": 1,
     "solution": false
    }
   },
   "outputs": [
    {
     "data": {
      "text/plain": [
       "defined \u001b[32mfunction\u001b[39m \u001b[36mconst\u001b[39m"
      ]
     },
     "execution_count": 5,
     "metadata": {},
     "output_type": "execute_result"
    }
   ],
   "source": [
    "def const[S,D,E](p : Parser[S,D], d : E) : Parser[S, E] = bind(p, (x : D) => success(d))"
   ]
  },
  {
   "cell_type": "markdown",
   "metadata": {
    "deletable": false,
    "editable": false,
    "nbgrader": {
     "checksum": "ed5f9248a7c71559b9c2f77794bf9ef7",
     "grade": false,
     "grade_id": "cell-82138610838bd057",
     "locked": true,
     "schema_version": 1,
     "solution": false
    }
   },
   "source": [
    "Note that this function captures the commonality between all of the parsers above, so we can define our parsers in terms of `const` now. We have given you the definition for `let`, fill in the definitions for the rest of the keywords."
   ]
  },
  {
   "cell_type": "code",
   "execution_count": 10,
   "metadata": {
    "deletable": false,
    "nbgrader": {
     "checksum": "95966788e5902e1a30927c119cd54630",
     "grade": false,
     "grade_id": "cell-bcd53a2693f66035",
     "locked": false,
     "schema_version": 1,
     "solution": true
    }
   },
   "outputs": [
    {
     "data": {
      "text/plain": [
       "defined \u001b[32mfunction\u001b[39m \u001b[36mpLet\u001b[39m\n",
       "defined \u001b[32mfunction\u001b[39m \u001b[36mpFunc\u001b[39m\n",
       "defined \u001b[32mfunction\u001b[39m \u001b[36mpRec\u001b[39m\n",
       "defined \u001b[32mfunction\u001b[39m \u001b[36mpIn\u001b[39m\n",
       "defined \u001b[32mfunction\u001b[39m \u001b[36mpIf\u001b[39m\n",
       "defined \u001b[32mfunction\u001b[39m \u001b[36mpThen\u001b[39m\n",
       "defined \u001b[32mfunction\u001b[39m \u001b[36mpElse\u001b[39m"
      ]
     },
     "execution_count": 10,
     "metadata": {},
     "output_type": "execute_result"
    }
   ],
   "source": [
    "def pLet : Parser[Char, Lex] =\n",
    "    const(string(\"let\"), Keyword(KWLet))\n",
    "\n",
    "def pFunc : Parser[Char, Lex] =\n",
    "    const(string(\"function\"), Keyword(KWFunction))\n",
    "\n",
    "def pRec : Parser[Char, Lex] =\n",
    "    const(string(\"rec\"), Keyword(KWRec))\n",
    "\n",
    "def pIn : Parser[Char, Lex] =\n",
    "   const(string(\"in\"), Keyword(KWIn))\n",
    "\n",
    "def pIf : Parser[Char, Lex] =\n",
    "    const(string(\"if\"), Keyword(KWIf))\n",
    "\n",
    "def pThen : Parser[Char, Lex] =\n",
    "    const(string(\"then\"), Keyword(KWThen))\n",
    "\n",
    "def pElse : Parser[Char, Lex] =\n",
    "    const(string(\"else\"), Keyword(KWElse))"
   ]
  },
  {
   "cell_type": "code",
   "execution_count": 11,
   "metadata": {
    "deletable": false,
    "editable": false,
    "nbgrader": {
     "checksum": "146a13e33c002fb416cba9f3e56e449a",
     "grade": true,
     "grade_id": "cell-44f01836be8dbdec",
     "locked": true,
     "points": 3,
     "schema_version": 1,
     "solution": false
    }
   },
   "outputs": [
    {
     "name": "stdout",
     "output_type": "stream",
     "text": [
      "\n",
      "*** Tests Passed (3 points) ***\n"
     ]
    },
    {
     "data": {
      "text/plain": [
       "defined \u001b[32mfunction\u001b[39m \u001b[36mtestkw\u001b[39m"
      ]
     },
     "execution_count": 11,
     "metadata": {},
     "output_type": "execute_result"
    }
   ],
   "source": [
    "def testkw(p: Parser[Char, Lex], w: String, kw: KW) {\n",
    "    assert(\n",
    "        runParser(p, w) == Just(Keyword(kw)) && runParser(p, \"ssdfsdfdf\") == None,\n",
    "        s\"\\n\\n*** Keyword that failed test: '$w' ***\\n\"\n",
    "    )\n",
    "}\n",
    "testkw(pLet, \"let\", KWLet)\n",
    "testkw(pFunc, \"function\", KWFunction)\n",
    "testkw(pRec, \"rec\", KWRec)\n",
    "testkw(pIn, \"in\", KWIn)\n",
    "testkw(pIf, \"if\", KWIf)\n",
    "testkw(pThen, \"then\", KWThen)\n",
    "testkw(pElse, \"else\", KWElse)\n",
    "passed(3)"
   ]
  },
  {
   "cell_type": "markdown",
   "metadata": {
    "deletable": false,
    "editable": false,
    "nbgrader": {
     "checksum": "c92f924b276409edfeddc61ba3a524c2",
     "grade": false,
     "grade_id": "cell-946ffc5c5bcf8608",
     "locked": true,
     "schema_version": 1,
     "solution": false
    }
   },
   "source": [
    "Now combine these together, using `option`, to create a lexer for all the keywords."
   ]
  },
  {
   "cell_type": "code",
   "execution_count": 12,
   "metadata": {
    "deletable": false,
    "nbgrader": {
     "checksum": "e1c7eeed6552d01e82db1c62b2ee6ea9",
     "grade": false,
     "grade_id": "cell-d36dac31057a85ab",
     "locked": false,
     "schema_version": 1,
     "solution": true
    }
   },
   "outputs": [
    {
     "data": {
      "text/plain": [
       "defined \u001b[32mfunction\u001b[39m \u001b[36mkeywords\u001b[39m"
      ]
     },
     "execution_count": 12,
     "metadata": {},
     "output_type": "execute_result"
    }
   ],
   "source": [
    "def keywords : Parser[Char, Lex] =\n",
    "    option(pLet, option(pFunc, option(pRec, option(pIn, option(pIf, \n",
    "                                                              option(pThen, pElse))))))"
   ]
  },
  {
   "cell_type": "markdown",
   "metadata": {
    "deletable": false,
    "editable": false,
    "nbgrader": {
     "checksum": "89b9691a9787ab9019f8ff1af3a5e32c",
     "grade": false,
     "grade_id": "cell-0bfaf354a54112d0",
     "locked": true,
     "schema_version": 1,
     "solution": false
    },
    "slideshow": {
     "slide_type": "slide"
    }
   },
   "source": [
    "If you have done this correctly then the parses below should be successful and yield the appropriate keyword:"
   ]
  },
  {
   "cell_type": "code",
   "execution_count": 13,
   "metadata": {
    "deletable": false,
    "editable": false,
    "nbgrader": {
     "checksum": "35a7e58a45f27d7ca6d17a78062adbf6",
     "grade": true,
     "grade_id": "cell-24d8f738df5d6555",
     "locked": true,
     "points": 2,
     "schema_version": 1,
     "solution": false
    }
   },
   "outputs": [
    {
     "name": "stdout",
     "output_type": "stream",
     "text": [
      "\n",
      "*** Tests Passed (2 points) ***\n"
     ]
    }
   ],
   "source": [
    "testkw(keywords, \"let\", KWLet)\n",
    "testkw(keywords, \"function\", KWFunction)\n",
    "testkw(keywords, \"rec\", KWRec)\n",
    "testkw(keywords, \"in\", KWIn)\n",
    "testkw(keywords, \"if\", KWIf)\n",
    "testkw(keywords, \"then\", KWThen)\n",
    "testkw(keywords, \"else\", KWElse)\n",
    "passed(2)"
   ]
  },
  {
   "cell_type": "markdown",
   "metadata": {
    "deletable": false,
    "editable": false,
    "nbgrader": {
     "checksum": "b0fa76b6071a3d4d3cdaee9fde7ecbcc",
     "grade": false,
     "grade_id": "cell-2c3aee954c3890de",
     "locked": true,
     "schema_version": 1,
     "solution": false
    }
   },
   "source": [
    "and the parses below should all result in failures"
   ]
  },
  {
   "cell_type": "code",
   "execution_count": 14,
   "metadata": {
    "deletable": false,
    "editable": false,
    "nbgrader": {
     "checksum": "1223014ec850657f46b8fb38b15412b4",
     "grade": false,
     "grade_id": "cell-c5e03501b96dc7cb",
     "locked": true,
     "schema_version": 1,
     "solution": false
    }
   },
   "outputs": [
    {
     "data": {
      "text/plain": [
       "\u001b[36mres13_0\u001b[39m: \u001b[32mMaybe\u001b[39m[\u001b[32mLex\u001b[39m] = None\n",
       "\u001b[36mres13_1\u001b[39m: \u001b[32mMaybe\u001b[39m[\u001b[32mLex\u001b[39m] = None\n",
       "\u001b[36mres13_2\u001b[39m: \u001b[32mMaybe\u001b[39m[\u001b[32mLex\u001b[39m] = None\n",
       "\u001b[36mres13_3\u001b[39m: \u001b[32mMaybe\u001b[39m[\u001b[32mLex\u001b[39m] = None"
      ]
     },
     "execution_count": 14,
     "metadata": {},
     "output_type": "execute_result"
    }
   ],
   "source": [
    "runParser(keywords, \"lettuce\")\n",
    "runParser(keywords, \"ins\")\n",
    "runParser(keywords, \"if then else\")\n",
    "runParser(keywords, \"sudo is pronounced sudo\")"
   ]
  },
  {
   "cell_type": "markdown",
   "metadata": {
    "deletable": false,
    "editable": false,
    "nbgrader": {
     "checksum": "6bb2e66b7053f14fe7332345a9eba72a",
     "grade": false,
     "grade_id": "cell-08ce187e67adf49b",
     "locked": true,
     "schema_version": 1,
     "solution": false
    }
   },
   "source": [
    "$$\n",
    "\\begin{align}\n",
    "    \\textbf{Lex} ::=&\\ \\color{Green}{\\text{Keyword}\\ \\textbf{Keyword}}\\\\\n",
    "    \\mid&\\ \\text{Literal}\\ \\textbf{Literal}\\\\\n",
    "    \\mid &\\ \\text{Identifier}\\ \\textbf{String}\\\\\n",
    "    \\mid &\\ \\text{Operator}\\ \\textbf{String}\\\\\n",
    "    \\mid&\\ \\text{OpenParen}\\\\\n",
    "    \\mid&\\ \\text{CloseParen}\n",
    "\\end{align}\n",
    "$$"
   ]
  },
  {
   "cell_type": "markdown",
   "metadata": {},
   "source": [
    "### Lexing Literals (5 points)\n",
    "\n",
    "#### Booleans\n",
    "\n",
    "The next part of our lexer to write is the parser for literals. These will include numbers and booleans. The case for booleans is fairly straightforward. We want to check if there is the string `true` or `false` and map these to their constructor in the $\\mathbb{B}$ type. You can again use the `const` function to do this(or if you want to write it all out you could also use `bind`)"
   ]
  },
  {
   "cell_type": "code",
   "execution_count": 15,
   "metadata": {
    "deletable": false,
    "nbgrader": {
     "checksum": "0fb0755b6f01ba8ad66d54156ad4ef72",
     "grade": false,
     "grade_id": "cell-bf80b0291e7fb1a4",
     "locked": false,
     "schema_version": 1,
     "solution": true
    }
   },
   "outputs": [
    {
     "data": {
      "text/plain": [
       "defined \u001b[32mfunction\u001b[39m \u001b[36mpTrue\u001b[39m\n",
       "defined \u001b[32mfunction\u001b[39m \u001b[36mpFalse\u001b[39m"
      ]
     },
     "execution_count": 15,
     "metadata": {},
     "output_type": "execute_result"
    }
   ],
   "source": [
    "def pTrue : Parser[Char, Lex] =\n",
    "    const(string(\"true\"), Literal(BoolLiteral(True)))\n",
    "\n",
    "def pFalse : Parser[Char, Lex] =\n",
    "    const(string(\"false\"), Literal(BoolLiteral(False)))\n"
   ]
  },
  {
   "cell_type": "code",
   "execution_count": 16,
   "metadata": {
    "deletable": false,
    "editable": false,
    "nbgrader": {
     "checksum": "c4ac8e4c73eaf6dcce9480d2680e831b",
     "grade": true,
     "grade_id": "cell-74c91d9f90470d20",
     "locked": true,
     "points": 2,
     "schema_version": 1,
     "solution": false
    }
   },
   "outputs": [
    {
     "name": "stdout",
     "output_type": "stream",
     "text": [
      "\n",
      "*** Tests Passed (2 points) ***\n"
     ]
    }
   ],
   "source": [
    "assert(runParser(pTrue, \"true\") == Just(Literal(BoolLiteral(True))))\n",
    "assert(runParser(pTrue, \"sffs\") == None)\n",
    "assert(runParser(pFalse, \"false\") == Just(Literal(BoolLiteral(False))))\n",
    "assert(runParser(pFalse, \"sffs\") == None)\n",
    "passed(2)"
   ]
  },
  {
   "cell_type": "markdown",
   "metadata": {
    "deletable": false,
    "editable": false,
    "nbgrader": {
     "checksum": "57576e35560944e8bde6fd79f8872c5c",
     "grade": false,
     "grade_id": "cell-6f9094b675a68897",
     "locked": true,
     "schema_version": 1,
     "solution": false
    }
   },
   "source": [
    "#### Numbers\n",
    "\n",
    "When we parse numbers we will only want to handle parsing _positive_ numbers. This is because we can represent negative numbers using the constructor $\\text{Neg}$ from $\\textbf{Expr}$. This will make the job of parsing numbers very easy for use, largely because we have alread defined the `number` parser above. Use `bind` and `number` to parse numbers and return them within a `Literal` constructor from `Lex`."
   ]
  },
  {
   "cell_type": "code",
   "execution_count": 17,
   "metadata": {
    "deletable": false,
    "nbgrader": {
     "checksum": "c620e313ca5fa1713364c35a278764b6",
     "grade": false,
     "grade_id": "cell-a5f9160115811e2d",
     "locked": false,
     "schema_version": 1,
     "solution": true
    }
   },
   "outputs": [
    {
     "data": {
      "text/plain": [
       "defined \u001b[32mfunction\u001b[39m \u001b[36mpNumber\u001b[39m"
      ]
     },
     "execution_count": 17,
     "metadata": {},
     "output_type": "execute_result"
    }
   ],
   "source": [
    "def pNumber : Parser[Char, Lex] =\n",
    "    bind(number, (s : Nat) => success(Literal(NumLiteral(s))))"
   ]
  },
  {
   "cell_type": "code",
   "execution_count": 18,
   "metadata": {
    "deletable": false,
    "editable": false,
    "nbgrader": {
     "checksum": "af665e725c51cb8d5bc719551b343549",
     "grade": true,
     "grade_id": "cell-8c17a4e8aae2d88b",
     "locked": true,
     "points": 2,
     "schema_version": 1,
     "solution": false
    }
   },
   "outputs": [
    {
     "name": "stdout",
     "output_type": "stream",
     "text": [
      "\n",
      "*** Tests Passed (2 points) ***\n"
     ]
    },
    {
     "data": {
      "text/plain": [
       "defined \u001b[32mfunction\u001b[39m \u001b[36mjnls\u001b[39m"
      ]
     },
     "execution_count": 18,
     "metadata": {},
     "output_type": "execute_result"
    }
   ],
   "source": [
    "def jnls(s: String): Maybe[Lex] = Just(Literal(NumLiteral(stringToNat(string_to_list(s)))))\n",
    "assert(runParser(pNumber, \"10\") == jnls(\"10\"))\n",
    "assert(runParser(pNumber, \"142\") == jnls(\"142\"))\n",
    "assert(runParser(pNumber, \"abcd\") == None)\n",
    "passed(2)"
   ]
  },
  {
   "cell_type": "markdown",
   "metadata": {
    "deletable": false,
    "editable": false,
    "nbgrader": {
     "checksum": "6844c0256378f78e0dc08d9e1998ca6f",
     "grade": false,
     "grade_id": "cell-85fd3275189f78b2",
     "locked": true,
     "schema_version": 1,
     "solution": false
    }
   },
   "source": [
    "#### The Literal Lexer\n",
    "\n",
    "We can now combine these, again using `option`, to have a completed literal lexer. Do so below:"
   ]
  },
  {
   "cell_type": "code",
   "execution_count": 19,
   "metadata": {
    "deletable": false,
    "nbgrader": {
     "checksum": "fb3206392683faa7be02806b8934b143",
     "grade": false,
     "grade_id": "cell-dd983ac7b7911a15",
     "locked": false,
     "schema_version": 1,
     "solution": true
    }
   },
   "outputs": [
    {
     "data": {
      "text/plain": [
       "defined \u001b[32mfunction\u001b[39m \u001b[36mliterals\u001b[39m"
      ]
     },
     "execution_count": 19,
     "metadata": {},
     "output_type": "execute_result"
    }
   ],
   "source": [
    "def literals : Parser[Char, Lex] =\n",
    "    option(pTrue, option(pFalse, pNumber))"
   ]
  },
  {
   "cell_type": "markdown",
   "metadata": {
    "deletable": false,
    "editable": false,
    "nbgrader": {
     "checksum": "80ba2594d2d32ed3e7fa6b3c9fa24c40",
     "grade": false,
     "grade_id": "cell-351ba349b4283601",
     "locked": true,
     "schema_version": 1,
     "solution": false
    }
   },
   "source": [
    "If you have done all of the above correctly the following parses should be successful:"
   ]
  },
  {
   "cell_type": "code",
   "execution_count": 20,
   "metadata": {
    "deletable": false,
    "editable": false,
    "nbgrader": {
     "checksum": "36712260dacbaefc2677ccf89c733b42",
     "grade": true,
     "grade_id": "cell-91f734551ee1222f",
     "locked": true,
     "points": 1,
     "schema_version": 1,
     "solution": false
    }
   },
   "outputs": [
    {
     "name": "stdout",
     "output_type": "stream",
     "text": [
      "\n",
      "*** Tests Passed (1 point) ***\n"
     ]
    }
   ],
   "source": [
    "assert(runParser(literals, \"23\") == jnls(\"23\"))\n",
    "assert(runParser(literals, \"5\") == jnls(\"5\"))\n",
    "assert(runParser(literals, \"0\") == jnls(\"0\"))\n",
    "assert(runParser(literals, \"true\") == Just(Literal(BoolLiteral(True))))\n",
    "assert(runParser(literals, \"false\") == Just(Literal(BoolLiteral(False))))\n",
    "assert(runParser(literals, \"faslse\") == None)\n",
    "assert(runParser(literals, \"s123\") == None)\n",
    "passed(1)"
   ]
  },
  {
   "cell_type": "markdown",
   "metadata": {
    "deletable": false,
    "editable": false,
    "nbgrader": {
     "checksum": "2df0d71b8913eb912484611a3f489817",
     "grade": false,
     "grade_id": "cell-87b4c75e52d8199a",
     "locked": true,
     "schema_version": 1,
     "solution": false
    }
   },
   "source": [
    "$$\n",
    "\\begin{align}\n",
    "    \\textbf{Lex} ::=&\\ \\color{Green}{\\text{Keyword}\\ \\textbf{Keyword}}\\\\\n",
    "    \\mid&\\ \\color{Green}{\\text{Literal}\\ \\textbf{Literal}}\\\\\n",
    "    \\mid &\\ \\text{Identifier}\\ \\textbf{String}\\\\\n",
    "    \\mid &\\ \\text{Operator}\\ \\textbf{String}\\\\\n",
    "    \\mid&\\ \\text{OpenParen}\\\\\n",
    "    \\mid&\\ \\text{CloseParen}\n",
    "\\end{align}\n",
    "$$"
   ]
  },
  {
   "cell_type": "markdown",
   "metadata": {
    "deletable": false,
    "editable": false,
    "nbgrader": {
     "checksum": "365d7c7c9a4fa9f3867b9cd041871057",
     "grade": false,
     "grade_id": "cell-4d8300376bbe81eb",
     "locked": true,
     "schema_version": 1,
     "solution": false
    }
   },
   "source": [
    "### Lexing Identifiers\n",
    "\n",
    "We'll let identifiers be any combination of letters and numbers, so long as it does not start with a number. We have defined this for you. Read through the definition and try your best to understand it. It will potentially be useful later."
   ]
  },
  {
   "cell_type": "code",
   "execution_count": 21,
   "metadata": {
    "deletable": false,
    "editable": false,
    "nbgrader": {
     "checksum": "0b4b52107695ca54ba61cdb1809b6137",
     "grade": false,
     "grade_id": "cell-fc6063e1280df21f",
     "locked": true,
     "schema_version": 1,
     "solution": false
    }
   },
   "outputs": [
    {
     "data": {
      "text/plain": [
       "defined \u001b[32mfunction\u001b[39m \u001b[36misAlpha\u001b[39m\n",
       "defined \u001b[32mfunction\u001b[39m \u001b[36malphanum\u001b[39m"
      ]
     },
     "execution_count": 21,
     "metadata": {},
     "output_type": "execute_result"
    }
   ],
   "source": [
    "def isAlpha(c : Char) : Bool = if(c >= 'A' & c <= 'z') True else False\n",
    "\n",
    "def alphanum : Parser[Char, Char] = option(digit, satisfies(isAlpha))"
   ]
  },
  {
   "cell_type": "code",
   "execution_count": 22,
   "metadata": {
    "deletable": false,
    "editable": false,
    "nbgrader": {
     "checksum": "014647e7018855b9893a74f39177df44",
     "grade": false,
     "grade_id": "cell-2e0315706e8b9060",
     "locked": true,
     "schema_version": 1,
     "solution": false
    }
   },
   "outputs": [
    {
     "data": {
      "text/plain": [
       "defined \u001b[32mfunction\u001b[39m \u001b[36midentifier\u001b[39m"
      ]
     },
     "execution_count": 22,
     "metadata": {},
     "output_type": "execute_result"
    }
   ],
   "source": [
    "def identifier : Parser[Char, Lex] = bind(satisfies(isAlpha), \n",
    "                                          (x : Char) => bind(many(alphanum),\n",
    "                                          (xs : List[Char]) => success(Identifier(Cons(x,xs)))))"
   ]
  },
  {
   "cell_type": "markdown",
   "metadata": {
    "deletable": false,
    "editable": false,
    "nbgrader": {
     "checksum": "ee31bf477f285651f8680c64f56311ba",
     "grade": false,
     "grade_id": "cell-14d018cf9d4fa286",
     "locked": true,
     "schema_version": 1,
     "solution": false
    }
   },
   "source": [
    "$$\n",
    "\\begin{align}\n",
    "    \\textbf{Lex} ::=&\\ \\color{Green}{\\text{Keyword}\\ \\textbf{Keyword}}\\\\\n",
    "    \\mid&\\ \\color{Green}{\\text{Literal}\\ \\textbf{Literal}}\\\\\n",
    "    \\mid &\\ \\color{Green}{\\text{Identifier}\\ \\textbf{String}}\\\\\n",
    "    \\mid &\\ \\text{Operator}\\ \\textbf{String}\\\\\n",
    "    \\mid&\\ \\text{OpenParen}\\\\\n",
    "    \\mid&\\ \\text{CloseParen}\n",
    "\\end{align}\n",
    "$$"
   ]
  },
  {
   "cell_type": "markdown",
   "metadata": {
    "deletable": false,
    "editable": false,
    "nbgrader": {
     "checksum": "d48abe7cd5767924d72402fdce7fa5ab",
     "grade": false,
     "grade_id": "cell-8a7fb4ec0fde1e3d",
     "locked": true,
     "schema_version": 1,
     "solution": false
    }
   },
   "source": [
    "### Lexing Operators (5 points)\n",
    "\n",
    "We will give a the set of operators for Lettuce as any non-alphabetic symbol we use. This will be: \n",
    "\n",
    "`+`, `-`, `*`, `==`, `&`, `|` and `=`\n",
    "\n",
    "Fill in the missing section of the operators lexer below. The `satisfies` function above will prove very useful:"
   ]
  },
  {
   "cell_type": "code",
   "execution_count": 23,
   "metadata": {
    "deletable": false,
    "nbgrader": {
     "checksum": "ef4dfe7e7167d838b17eb49d54f836fc",
     "grade": false,
     "grade_id": "cell-f8694e51ef8dbc4a",
     "locked": false,
     "schema_version": 1,
     "solution": true
    }
   },
   "outputs": [
    {
     "data": {
      "text/plain": [
       "defined \u001b[32mfunction\u001b[39m \u001b[36misOperator\u001b[39m\n",
       "\u001b[36mMISSING\u001b[39m: \u001b[32mList\u001b[39m[\u001b[32mChar\u001b[39m] => \u001b[32mList\u001b[39m[(\u001b[32mChar\u001b[39m, \u001b[32mList\u001b[39m[\u001b[32mChar\u001b[39m])] = ammonite.$sess.cmd1$Helper$$Lambda$3203/1209878496@67facc95\n",
       "defined \u001b[32mfunction\u001b[39m \u001b[36moperators\u001b[39m"
      ]
     },
     "execution_count": 23,
     "metadata": {},
     "output_type": "execute_result"
    }
   ],
   "source": [
    "def isOperator(x : Char) : Bool = x match {\n",
    "    case '+' => True\n",
    "    case '-' => True\n",
    "    case '*' => True\n",
    "    case '=' => True\n",
    "    case '&' => True\n",
    "    case '|' => True\n",
    "    case _   => False\n",
    "}\n",
    "\n",
    "val MISSING = satisfies(isOperator)\n",
    "    \n",
    "def operators : Parser[Char, Lex] = option(\n",
    "    bind(string(\"==\"), (str : List[Char]) => success(Operator(str))),\n",
    "    bind(MISSING     , (c : Char) => success(Operator(singleton(c))))\n",
    ")"
   ]
  },
  {
   "cell_type": "markdown",
   "metadata": {
    "deletable": false,
    "editable": false,
    "nbgrader": {
     "checksum": "657601acfc2cd19bc4414007166b9f92",
     "grade": false,
     "grade_id": "cell-9798ef5d5fb73b0e",
     "locked": true,
     "schema_version": 1,
     "solution": false
    }
   },
   "source": [
    "If this is defined correctly the following parses should be successful:"
   ]
  },
  {
   "cell_type": "code",
   "execution_count": 24,
   "metadata": {
    "deletable": false,
    "editable": false,
    "nbgrader": {
     "checksum": "1cd45d0c9a908f22f60bb422c393eb98",
     "grade": true,
     "grade_id": "cell-217ea30c04727c3c",
     "locked": true,
     "points": 5,
     "schema_version": 1,
     "solution": false
    }
   },
   "outputs": [
    {
     "name": "stdout",
     "output_type": "stream",
     "text": [
      "\n",
      "*** Tests Passed (5 points) ***\n"
     ]
    }
   ],
   "source": [
    "assert(runParser(operators, \"*\") == Just(Operator(Cons('*', Empty))))\n",
    "assert(runParser(operators, \"+\") == Just(Operator(Cons('+', Empty))))\n",
    "assert(runParser(operators, \"-\") == Just(Operator(Cons('-', Empty))))\n",
    "assert(runParser(operators, \"=\") == Just(Operator(Cons('=', Empty))))\n",
    "assert(runParser(operators, \"==\") == Just(Operator(Cons('=', Cons('=', Empty)))))\n",
    "assert(runParser(operators, \"faslse\") == None)\n",
    "assert(runParser(operators, \"s123\") == None)\n",
    "passed(5)"
   ]
  },
  {
   "cell_type": "markdown",
   "metadata": {
    "deletable": false,
    "editable": false,
    "nbgrader": {
     "checksum": "0ce06e8653c0134b29e08f0abc52bb40",
     "grade": false,
     "grade_id": "cell-ae114745d35d8cdb",
     "locked": true,
     "schema_version": 1,
     "solution": false
    }
   },
   "source": [
    "$$\n",
    "\\begin{align}\n",
    "    \\textbf{Lex} ::=&\\ \\color{Green}{\\text{Keyword}\\ \\textbf{Keyword}}\\\\\n",
    "    \\mid&\\ \\color{Green}{\\text{Literal}\\ \\textbf{Literal}}\\\\\n",
    "    \\mid &\\ \\color{Green}{\\text{Identifier}\\ \\textbf{String}}\\\\\n",
    "    \\mid &\\ \\color{Green}{\\text{Operator}\\ \\textbf{String}}\\\\\n",
    "    \\mid&\\ \\text{OpenParen}\\\\\n",
    "    \\mid&\\ \\text{CloseParen}\n",
    "\\end{align}\n",
    "$$"
   ]
  },
  {
   "cell_type": "markdown",
   "metadata": {
    "deletable": false,
    "editable": false,
    "nbgrader": {
     "checksum": "5276ad241c051511bfb9f422ac82f053",
     "grade": false,
     "grade_id": "cell-337b8867169e53b0",
     "locked": true,
     "schema_version": 1,
     "solution": false
    }
   },
   "source": [
    "### Parenthesis (5 points)\n",
    "\n",
    "Again use the `const` and `option` functions to create a lexer for open and closing parenthesis."
   ]
  },
  {
   "cell_type": "code",
   "execution_count": null,
   "metadata": {
    "deletable": false,
    "nbgrader": {
     "checksum": "67670b93d3ee1815083b8241306ecbe8",
     "grade": false,
     "grade_id": "cell-db1746c40daafbf0",
     "locked": false,
     "schema_version": 1,
     "solution": true
    }
   },
   "outputs": [],
   "source": [
    "def parens : Parser[Char, Lex] =\n",
    "   option(const(string(\"(\"), OpenParen), const(string(\")\"), CloseParen))"
   ]
  },
  {
   "cell_type": "markdown",
   "metadata": {
    "deletable": false,
    "editable": false,
    "nbgrader": {
     "checksum": "482288964360756bc7451cc1b75182c9",
     "grade": false,
     "grade_id": "cell-05c030e60f0e47c2",
     "locked": true,
     "schema_version": 1,
     "solution": false
    }
   },
   "source": [
    "If written properly, the following parser should output a list of lexes corresponding to parenthesis:"
   ]
  },
  {
   "cell_type": "code",
   "execution_count": null,
   "metadata": {
    "deletable": false,
    "editable": false,
    "nbgrader": {
     "checksum": "15f7d1e649702fec1fe44441d57b77c4",
     "grade": true,
     "grade_id": "cell-7d8e0254bc265576",
     "locked": true,
     "points": 2,
     "schema_version": 1,
     "solution": false
    }
   },
   "outputs": [],
   "source": [
    "assert(runParser(parens, \"(\") == Just(OpenParen))\n",
    "assert(runParser(parens, \"sdf\") == None)\n",
    "passed(2)"
   ]
  },
  {
   "cell_type": "code",
   "execution_count": null,
   "metadata": {
    "deletable": false,
    "editable": false,
    "nbgrader": {
     "checksum": "474e4ed0c2a469222b8a8f00f48354bf",
     "grade": true,
     "grade_id": "cell-c8dc09d62389a6df",
     "locked": true,
     "points": 3,
     "schema_version": 1,
     "solution": false
    }
   },
   "outputs": [],
   "source": [
    "assert(runParser(parens, \")\") == Just(CloseParen))\n",
    "assert(runParser(parens, \"sdf\") == None)\n",
    "assert(runParser(many(parens), \"()())((()()))\") == Just(Cons(OpenParen,Cons(CloseParen,Cons(OpenParen,Cons(CloseParen,Cons(CloseParen,Cons(OpenParen,Cons(OpenParen,Cons(OpenParen,Cons(CloseParen,Cons(OpenParen,Cons(CloseParen,Cons(CloseParen,Cons(CloseParen,Empty)))))))))))))))\n",
    "passed(3)"
   ]
  },
  {
   "cell_type": "markdown",
   "metadata": {
    "deletable": false,
    "editable": false,
    "nbgrader": {
     "checksum": "f318218952c4ca4bf9a0b7fe2e666e9b",
     "grade": false,
     "grade_id": "cell-a60b629a36eed304",
     "locked": true,
     "schema_version": 1,
     "solution": false
    }
   },
   "source": [
    "$$\n",
    "\\begin{align}\n",
    "    \\textbf{Lex} ::=&\\ \\color{Green}{\\text{Keyword}\\ \\textbf{Keyword}}\\\\\n",
    "    \\mid&\\ \\color{Green}{\\text{Literal}\\ \\textbf{Literal}}\\\\\n",
    "    \\mid &\\ \\color{Green}{\\text{Identifier}\\ \\textbf{String}}\\\\\n",
    "    \\mid &\\ \\color{Green}{\\text{Operator}\\ \\textbf{String}}\\\\\n",
    "    \\mid&\\ \\color{Green}{\\text{OpenParen}}\\\\\n",
    "    \\mid&\\ \\color{Green}{\\text{CloseParen}}\n",
    "\\end{align}\n",
    "$$"
   ]
  },
  {
   "cell_type": "markdown",
   "metadata": {
    "deletable": false,
    "editable": false,
    "nbgrader": {
     "checksum": "7795cee5e8222322f6cd0ce0cdb51c9f",
     "grade": false,
     "grade_id": "cell-433a09a0dc14cfc8",
     "locked": true,
     "schema_version": 1,
     "solution": false
    }
   },
   "source": [
    "### Putting the Lexer together\n",
    "\n",
    "Below we define some functions to bring everything together. Try your best to understand what is happening at a high level. Most of these functions have special behavior for handling parenthesis and whitespace."
   ]
  },
  {
   "cell_type": "code",
   "execution_count": null,
   "metadata": {
    "deletable": false,
    "editable": false,
    "nbgrader": {
     "checksum": "a797a7424ae35f29fef22da97e144c2a",
     "grade": false,
     "grade_id": "cell-ea964eb7fe1286b8",
     "locked": true,
     "schema_version": 1,
     "solution": false
    }
   },
   "outputs": [],
   "source": [
    "def lexOne : Parser[Char, Lex] = option(keywords, \n",
    "                                 option(operators, \n",
    "                                 option(parens,\n",
    "                                 option(literals,\n",
    "                                        identifier))))\n",
    "\n",
    "def lexWhitespace : Parser[Char, List[Lex]] = const(whitespace, Empty)\n",
    "\n",
    "def lexParens : Parser[Char, List[Lex]] = bind(parens, (x : Lex) => \n",
    "                                          bind(maybeWhitespace,\n",
    "                                               (ws : List[Char]) => success(singleton(x))))\n",
    "\n",
    "\n",
    "def lexToken : Parser[Char, List[Lex]] = bind(lexOne, \n",
    "                                             (l : Lex) => bind(option(lexParens, lexWhitespace),\n",
    "                                             (sep : List[Lex]) => success(Cons(l, sep))))\n"
   ]
  },
  {
   "cell_type": "code",
   "execution_count": null,
   "metadata": {
    "deletable": false,
    "editable": false,
    "nbgrader": {
     "checksum": "5c223a6212583d7fb0ebd8374ec522e9",
     "grade": false,
     "grade_id": "cell-e8ff5fb079edc85b",
     "locked": true,
     "schema_version": 1,
     "solution": false
    }
   },
   "outputs": [],
   "source": [
    "def concat[A](xs : List[List[A]]) : List[A] = xs match {\n",
    "    case Empty => Empty\n",
    "    case Cons(xs, xxs) => append(xs, concat(xxs))\n",
    "}\n",
    "\n",
    "\n",
    "def lexer : Parser[Char, List[Lex]] = bind(many(lexToken), \n",
    "                   (ls : List[List[Lex]]) =>\n",
    "                   success(concat(ls)))"
   ]
  },
  {
   "cell_type": "markdown",
   "metadata": {
    "deletable": false,
    "editable": false,
    "nbgrader": {
     "checksum": "9bd47e81eff10d0b584bc9106835b3fa",
     "grade": false,
     "grade_id": "cell-ece091b7628fe6aa",
     "locked": true,
     "schema_version": 1,
     "solution": false
    }
   },
   "source": [
    "If everything in this notebook is done correctly then the following strings should successfully lex. Note that they always will need to end in a trailing whitespace in order to parse correctly. (This was the bug I mentioned in lecture, I never could quite squish it)"
   ]
  },
  {
   "cell_type": "code",
   "execution_count": null,
   "metadata": {
    "deletable": false,
    "editable": false,
    "nbgrader": {
     "checksum": "578d1c64e8dcf72416371a374083c495",
     "grade": false,
     "grade_id": "cell-8081f620f43b105a",
     "locked": true,
     "schema_version": 1,
     "solution": false
    }
   },
   "outputs": [],
   "source": [
    "runParser(lexer, \"let x = 5 in x + x \")"
   ]
  },
  {
   "cell_type": "code",
   "execution_count": null,
   "metadata": {
    "deletable": false,
    "editable": false,
    "nbgrader": {
     "checksum": "3099d6b4c22b8a71a8b1c3759c49e652",
     "grade": false,
     "grade_id": "cell-d3414dcde7a06d9a",
     "locked": true,
     "schema_version": 1,
     "solution": false
    }
   },
   "outputs": [],
   "source": [
    "runParser(lexer, \"let f = function(x) x + x in f(5) \")"
   ]
  },
  {
   "cell_type": "code",
   "execution_count": null,
   "metadata": {
    "deletable": false,
    "editable": false,
    "nbgrader": {
     "checksum": "25d7311e74d96bc747a48755511577dd",
     "grade": false,
     "grade_id": "cell-388ceacf2571ecec",
     "locked": true,
     "schema_version": 1,
     "solution": false
    }
   },
   "outputs": [],
   "source": [
    "runParser(lexer, \"5 + 5 \")"
   ]
  }
 ],
 "metadata": {
  "kernelspec": {
   "display_name": "Scala",
   "language": "scala",
   "name": "scala"
  },
  "language_info": {
   "codemirror_mode": "text/x-scala",
   "file_extension": ".scala",
   "mimetype": "text/x-scala",
   "name": "scala",
   "nbconvert_exporter": "script",
   "version": "2.12.9"
  }
 },
 "nbformat": 4,
 "nbformat_minor": 2
}
