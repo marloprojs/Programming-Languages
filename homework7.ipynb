{
 "cells": [
  {
   "cell_type": "code",
   "execution_count": 1,
   "metadata": {
    "deletable": false,
    "editable": false,
    "nbgrader": {
     "checksum": "cb609b155547c0a17763df24ea4b0538",
     "grade": false,
     "grade_id": "cell-73a0e84af9ef48a4",
     "locked": true,
     "schema_version": 1,
     "solution": false
    }
   },
   "outputs": [
    {
     "name": "stdout",
     "output_type": "stream",
     "text": [
      "Compiling /home/user/Downloads/Assignment7/hw7stdlib.sc"
     ]
    },
    {
     "data": {
      "text/plain": [
       "\u001b[32mimport \u001b[39m\u001b[36m$file.$        \n",
       "\u001b[39m\n",
       "\u001b[32mimport \u001b[39m\u001b[36mhw7stdlib._\u001b[39m"
      ]
     },
     "execution_count": 1,
     "metadata": {},
     "output_type": "execute_result"
    }
   ],
   "source": [
    "import $file.hw7stdlib\n",
    "import hw7stdlib._"
   ]
  },
  {
   "cell_type": "markdown",
   "metadata": {
    "deletable": false,
    "editable": false,
    "nbgrader": {
     "checksum": "006868d1e4f08ae54ec9c7166f743e6b",
     "grade": false,
     "grade_id": "cell-fdcb276c73c36a67",
     "locked": true,
     "schema_version": 1,
     "solution": false
    }
   },
   "source": [
    "# Homework 7\n",
    "\n",
    "In this assignment we will implement functions and recursive let bindings to support recursive functions."
   ]
  },
  {
   "cell_type": "markdown",
   "metadata": {
    "deletable": false,
    "editable": false,
    "nbgrader": {
     "checksum": "284fdc1d9c900da6b616a34368cb0c04",
     "grade": false,
     "grade_id": "cell-3703c44cf8b67f13",
     "locked": true,
     "schema_version": 1,
     "solution": false
    }
   },
   "source": [
    "## Additional Syntax (10 pts)\n",
    "\n",
    "Add the syntax as case classes necessary to implement functions. Below is the grammar to get you started along with the syntax we have defined so far:\n",
    "\n",
    "$$\\begin{array}{rcll}\n",
    "\\mathbf{Expr} & ::=\\ & ... \\\\\n",
    " & | & FunDef(\\textbf{String}, \\textbf{Expr}) \\\\ \n",
    " & | & FunCall(\\textbf{Expr}, \\textbf{Expr}) \\\\\n",
    " & | & LetRec(\\textbf{String}, \\textbf{String}, \\textbf{Expr}, \\textbf{Expr}) \\\\\n",
    "\\end{array}$$\n",
    "\n",
    "**Note:** `Const` has been renamed to `Num`"
   ]
  },
  {
   "cell_type": "code",
   "execution_count": 2,
   "metadata": {
    "deletable": false,
    "nbgrader": {
     "checksum": "7f6236ff5d8456ad3ff09f51fcd42cc1",
     "grade": false,
     "grade_id": "cell-6bb55f28265b3f32",
     "locked": false,
     "schema_version": 1,
     "solution": true
    }
   },
   "outputs": [
    {
     "data": {
      "text/plain": [
       "defined \u001b[32mtrait\u001b[39m \u001b[36mExpr\u001b[39m\n",
       "defined \u001b[32mclass\u001b[39m \u001b[36mNum\u001b[39m\n",
       "defined \u001b[32mclass\u001b[39m \u001b[36mBin\u001b[39m\n",
       "defined \u001b[32mclass\u001b[39m \u001b[36mIdent\u001b[39m\n",
       "defined \u001b[32mclass\u001b[39m \u001b[36mPlus\u001b[39m\n",
       "defined \u001b[32mclass\u001b[39m \u001b[36mMinus\u001b[39m\n",
       "defined \u001b[32mclass\u001b[39m \u001b[36mMult\u001b[39m\n",
       "defined \u001b[32mclass\u001b[39m \u001b[36mPow\u001b[39m\n",
       "defined \u001b[32mclass\u001b[39m \u001b[36mNeg\u001b[39m\n",
       "defined \u001b[32mclass\u001b[39m \u001b[36mEq\u001b[39m\n",
       "defined \u001b[32mclass\u001b[39m \u001b[36mAnd\u001b[39m\n",
       "defined \u001b[32mclass\u001b[39m \u001b[36mOr\u001b[39m\n",
       "defined \u001b[32mclass\u001b[39m \u001b[36mIfThenElse\u001b[39m\n",
       "defined \u001b[32mclass\u001b[39m \u001b[36mLet\u001b[39m\n",
       "defined \u001b[32mclass\u001b[39m \u001b[36mFunDef\u001b[39m\n",
       "defined \u001b[32mclass\u001b[39m \u001b[36mFunCall\u001b[39m\n",
       "defined \u001b[32mclass\u001b[39m \u001b[36mLetRec\u001b[39m"
      ]
     },
     "execution_count": 2,
     "metadata": {},
     "output_type": "execute_result"
    }
   ],
   "source": [
    "sealed trait Expr\n",
    "case class Num(x : Integer) extends Expr\n",
    "case class Bin(x : Bool) extends Expr\n",
    "case class Ident(x : String) extends Expr\n",
    "case class Plus(x : Expr, y : Expr) extends Expr\n",
    "case class Minus(x : Expr, y : Expr) extends Expr\n",
    "case class Mult(x : Expr, y : Expr) extends Expr\n",
    "case class Pow(x : Expr, y : Expr) extends Expr\n",
    "case class Neg(x : Expr) extends Expr\n",
    "case class Eq(x : Expr, y : Expr) extends Expr\n",
    "case class And(x : Expr, y : Expr) extends Expr\n",
    "case class Or(x : Expr, y : Expr) extends Expr\n",
    "case class IfThenElse(p : Expr, t : Expr, f : Expr) extends Expr\n",
    "case class Let(id : String, x : Expr, y : Expr) extends Expr\n",
    "case class FunDef(x: String, y: Expr) extends Expr\n",
    "case class FunCall(x: Expr, y: Expr) extends Expr\n",
    "case class LetRec(x: String, y: String, e1: Expr, e2: Expr) extends Expr"
   ]
  },
  {
   "cell_type": "code",
   "execution_count": 3,
   "metadata": {
    "deletable": false,
    "editable": false,
    "nbgrader": {
     "checksum": "cdf829e620e58e3edde0625304d3ec2f",
     "grade": true,
     "grade_id": "cell-a865b9dd4be15e20",
     "locked": true,
     "points": 4,
     "schema_version": 1,
     "solution": false
    }
   },
   "outputs": [
    {
     "name": "stdout",
     "output_type": "stream",
     "text": [
      "\n",
      "*** Tests Passed (4 points) ***\n"
     ]
    },
    {
     "data": {
      "text/plain": [
       "\u001b[36mf\u001b[39m: \u001b[32mFunDef\u001b[39m = \u001b[33mFunDef\u001b[39m(\u001b[32m\"x\"\u001b[39m, \u001b[33mIdent\u001b[39m(\u001b[32m\"x\"\u001b[39m))"
      ]
     },
     "execution_count": 3,
     "metadata": {},
     "output_type": "execute_result"
    }
   ],
   "source": [
    "val f = FunDef(\"x\", Ident(\"x\"))\n",
    "passed(4)"
   ]
  },
  {
   "cell_type": "code",
   "execution_count": 4,
   "metadata": {
    "deletable": false,
    "editable": false,
    "nbgrader": {
     "checksum": "ecb770f394884762d2c3990ce54a2386",
     "grade": true,
     "grade_id": "cell-6d7a5b113b95a883",
     "locked": true,
     "points": 3,
     "schema_version": 1,
     "solution": false
    }
   },
   "outputs": [
    {
     "name": "stdout",
     "output_type": "stream",
     "text": [
      "\n",
      "*** Tests Passed (3 points) ***\n"
     ]
    },
    {
     "data": {
      "text/plain": [
       "\u001b[36mcall\u001b[39m: \u001b[32mFunCall\u001b[39m = \u001b[33mFunCall\u001b[39m(\n",
       "  \u001b[33mFunDef\u001b[39m(\u001b[32m\"x\"\u001b[39m, \u001b[33mIdent\u001b[39m(\u001b[32m\"x\"\u001b[39m)),\n",
       "  \u001b[33mNum\u001b[39m(\u001b[33mPositive\u001b[39m(\u001b[33mSucc\u001b[39m(\u001b[33mSucc\u001b[39m(\u001b[33mSucc\u001b[39m(Zero)))))\n",
       ")"
      ]
     },
     "execution_count": 4,
     "metadata": {},
     "output_type": "execute_result"
    }
   ],
   "source": [
    "val call = FunCall(f, Num(Positive(three)))\n",
    "passed(3)"
   ]
  },
  {
   "cell_type": "code",
   "execution_count": 5,
   "metadata": {
    "deletable": false,
    "editable": false,
    "nbgrader": {
     "checksum": "960ee6a781cc60952e02387f5ee20e46",
     "grade": true,
     "grade_id": "cell-cde3f5ce0b49ec81",
     "locked": true,
     "points": 3,
     "schema_version": 1,
     "solution": false
    }
   },
   "outputs": [
    {
     "name": "stdout",
     "output_type": "stream",
     "text": [
      "\n",
      "*** Tests Passed (3 points) ***\n"
     ]
    },
    {
     "data": {
      "text/plain": [
       "\u001b[36mlrec\u001b[39m: \u001b[32mLetRec\u001b[39m = \u001b[33mLetRec\u001b[39m(\n",
       "  \u001b[32m\"f\"\u001b[39m,\n",
       "  \u001b[32m\"x\"\u001b[39m,\n",
       "  \u001b[33mPlus\u001b[39m(\u001b[33mIdent\u001b[39m(\u001b[32m\"x\"\u001b[39m), \u001b[33mNum\u001b[39m(\u001b[33mPositive\u001b[39m(\u001b[33mSucc\u001b[39m(\u001b[33mSucc\u001b[39m(\u001b[33mSucc\u001b[39m(Zero)))))),\n",
       "  \u001b[33mFunCall\u001b[39m(\u001b[33mFunDef\u001b[39m(\u001b[32m\"x\"\u001b[39m, \u001b[33mIdent\u001b[39m(\u001b[32m\"x\"\u001b[39m)), \u001b[33mNum\u001b[39m(\u001b[33mPositive\u001b[39m(\u001b[33mSucc\u001b[39m(\u001b[33mSucc\u001b[39m(\u001b[33mSucc\u001b[39m(Zero))))))\n",
       ")"
      ]
     },
     "execution_count": 5,
     "metadata": {},
     "output_type": "execute_result"
    }
   ],
   "source": [
    "val lrec = LetRec(\"f\", \"x\", Plus(Ident(\"x\"), Num(Positive(three))), call)\n",
    "passed(3)"
   ]
  },
  {
   "cell_type": "markdown",
   "metadata": {
    "deletable": false,
    "editable": false,
    "nbgrader": {
     "checksum": "a099bdeeb3f9019f9228864a9ae8f02f",
     "grade": false,
     "grade_id": "cell-439c70acec848517",
     "locked": true,
     "schema_version": 1,
     "solution": false
    }
   },
   "source": [
    "## Closures (5 pts)\n",
    "\n",
    "Extend the defininition of $\\mathbf{Value}$ to support closures:\n",
    "$$\\begin{array}{rcll}\n",
    "\\mathbf{Value} & ::=\\ & ... \\\\\n",
    " & | & Closure(\\textbf{String}, \\textbf{Expr}, \\textbf{Environment}) \\\\\n",
    "\\end{array}$$\n",
    "\n",
    "### Note: \n",
    "This cell also contains the new definition for environments needed for recursion. It differs from using dictionaries in that:\n",
    "\n",
    "1. it is non-polymorphic\n",
    "2. The extend-rec constructor will be used to create closures for a let-rec binding. Where f is the key/name of the function and then x, e, and sigma represent the elements in the closure. We implement this functionality in the lookup function for environments\n",
    "\n",
    "**When you implement the case for LetRec below you will want to use ExtendRec to extend the environment**\n",
    "\n",
    "The following mathematical notation:\n",
    "\n",
    "$$\\sigma' = \\sigma[x_\\text{name} \\mapsto \\texttt{Closure}(x_\\text{param}, e_\\text{body}, \\sigma')]$$\n",
    "\n",
    "would be this in scala using the new definition:\n",
    "\n",
    "```scala\n",
    "val sigma_prime = ExtendRec(x_name, x_param, e_body, sigma)\n",
    "```"
   ]
  },
  {
   "cell_type": "code",
   "execution_count": 7,
   "metadata": {
    "deletable": false,
    "nbgrader": {
     "checksum": "2f3c1980fad1606be09728ccb81238d1",
     "grade": false,
     "grade_id": "cell-232282dd59006346",
     "locked": false,
     "schema_version": 1,
     "solution": true
    }
   },
   "outputs": [
    {
     "data": {
      "text/plain": [
       "defined \u001b[32mtrait\u001b[39m \u001b[36mValue\u001b[39m\n",
       "defined \u001b[32mclass\u001b[39m \u001b[36mNumVal\u001b[39m\n",
       "defined \u001b[32mclass\u001b[39m \u001b[36mBinVal\u001b[39m\n",
       "defined \u001b[32mobject\u001b[39m \u001b[36mError\u001b[39m\n",
       "defined \u001b[32mclass\u001b[39m \u001b[36mClosure\u001b[39m\n",
       "defined \u001b[32mtrait\u001b[39m \u001b[36mEnvironment\u001b[39m\n",
       "defined \u001b[32mobject\u001b[39m \u001b[36mEmptyEnv\u001b[39m\n",
       "defined \u001b[32mclass\u001b[39m \u001b[36mExtend\u001b[39m\n",
       "defined \u001b[32mclass\u001b[39m \u001b[36mExtendRec\u001b[39m"
      ]
     },
     "execution_count": 7,
     "metadata": {},
     "output_type": "execute_result"
    }
   ],
   "source": [
    "// Values\n",
    "sealed trait Value\n",
    "case class NumVal(x : Integer) extends Value\n",
    "case class BinVal(x : Bool) extends Value\n",
    "case object Error extends Value\n",
    "case class Closure(x: String, y: Expr, z: Environment) extends Value\n",
    "\n",
    "// New definition for environment for recursive funcs:\n",
    "sealed trait Environment\n",
    "case object EmptyEnv extends Environment \n",
    "case class Extend(k : String, v : Value, env : Environment) extends Environment\n",
    "case class ExtendRec(f: String, x: String, e: Expr, sigma: Environment ) extends Environment"
   ]
  },
  {
   "cell_type": "code",
   "execution_count": 8,
   "metadata": {
    "deletable": false,
    "editable": false,
    "nbgrader": {
     "checksum": "5ec2c9e2dc0fd8d7986f00ce6dded84e",
     "grade": true,
     "grade_id": "cell-5f8d075d8c1343ea",
     "locked": true,
     "points": 5,
     "schema_version": 1,
     "solution": false
    }
   },
   "outputs": [
    {
     "name": "stdout",
     "output_type": "stream",
     "text": [
      "\n",
      "*** Tests Passed (5 points) ***\n"
     ]
    },
    {
     "data": {
      "text/plain": [
       "\u001b[36mc\u001b[39m: \u001b[32mClosure\u001b[39m = \u001b[33mClosure\u001b[39m(\u001b[32m\"x\"\u001b[39m, \u001b[33mIdent\u001b[39m(\u001b[32m\"x\"\u001b[39m), EmptyEnv)"
      ]
     },
     "execution_count": 8,
     "metadata": {},
     "output_type": "execute_result"
    }
   ],
   "source": [
    "val c = Closure(\"x\", Ident(\"x\"), EmptyEnv)\n",
    "passed(5)"
   ]
  },
  {
   "cell_type": "markdown",
   "metadata": {
    "deletable": false,
    "editable": false,
    "nbgrader": {
     "checksum": "b7efe5510e7cfd3168662cdf6bf1b98f",
     "grade": false,
     "grade_id": "cell-f37987f6680bb068",
     "locked": true,
     "schema_version": 1,
     "solution": false
    }
   },
   "source": [
    "### New lookup function\n",
    "This function is used instead of the one for dictionaries when working with environments. You don't need to use it as the Ident case is filled out already."
   ]
  },
  {
   "cell_type": "code",
   "execution_count": 9,
   "metadata": {
    "deletable": false,
    "editable": false,
    "nbgrader": {
     "checksum": "c86d809a55e02f1d6bdf63c53dd0e185",
     "grade": false,
     "grade_id": "cell-7900c13eff720ce4",
     "locked": true,
     "schema_version": 1,
     "solution": false
    }
   },
   "outputs": [
    {
     "data": {
      "text/plain": [
       "defined \u001b[32mfunction\u001b[39m \u001b[36mlookupEnv\u001b[39m"
      ]
     },
     "execution_count": 9,
     "metadata": {},
     "output_type": "execute_result"
    }
   ],
   "source": [
    "def lookupEnv(sigma: Environment, x: String): Maybe[Value] = sigma match {\n",
    "    case EmptyEnv => None\n",
    "    case Extend(y, v, pi) => string_eq(y,x) match {\n",
    "        case True => Just(v)\n",
    "        case False => lookupEnv(pi, x)\n",
    "    } \n",
    "    case ExtendRec(f, y, e, pi) => string_eq(x,f) match {\n",
    "        case True => Just(Closure(y, e, sigma))\n",
    "        case False => lookupEnv(pi, x)\n",
    "    } \n",
    "}   "
   ]
  },
  {
   "cell_type": "markdown",
   "metadata": {
    "deletable": false,
    "editable": false,
    "nbgrader": {
     "checksum": "913480ed8668c36ec10a338e4e10b0d6",
     "grade": false,
     "grade_id": "cell-b5e8369eb5226a16",
     "locked": true,
     "schema_version": 1,
     "solution": false
    }
   },
   "source": [
    "## Updating the interpreter (20 pts)\n",
    "\n",
    "Add new cases to the interpreter to handle the new expressions we have added to the language. Once this is done you should be able to support both recursive and non-recursive functions. We have given you the skeleton to get started."
   ]
  },
  {
   "cell_type": "code",
   "execution_count": 60,
   "metadata": {
    "deletable": false,
    "nbgrader": {
     "checksum": "2b422708bac731e7c70691f709d3684c",
     "grade": false,
     "grade_id": "cell-32d0d95205e2063f",
     "locked": false,
     "schema_version": 1,
     "solution": true
    }
   },
   "outputs": [
    {
     "data": {
      "text/plain": [
       "defined \u001b[32mfunction\u001b[39m \u001b[36meval\u001b[39m\n",
       "defined \u001b[32mfunction\u001b[39m \u001b[36meval_bin_arith\u001b[39m\n",
       "defined \u001b[32mfunction\u001b[39m \u001b[36meval_bin_bool\u001b[39m"
      ]
     },
     "execution_count": 60,
     "metadata": {},
     "output_type": "execute_result"
    }
   ],
   "source": [
    "def eval(env : Environment, expr : Expr) : Value = expr match {\n",
    "    case Num(n)    => NumVal(n)\n",
    "    case Bin(p)    => BinVal(p)\n",
    "    case Ident(id) => lookupEnv(env, id) match {\n",
    "        case Just(v) => v\n",
    "        case None    => Error\n",
    "    }\n",
    "    case Plus(e1, e2)  => eval_bin_arith(plus, env, e1, e2)\n",
    "    case Minus(e1, e2) => eval_bin_arith(minus, env, e1, e2)\n",
    "    case Mult(e1, e2)  => eval_bin_arith(mult, env, e1, e2)\n",
    "    case Pow(e1, e2)   => (eval(env, e1), eval(env,e2)) match {\n",
    "        case (NumVal(x), NumVal(Positive(n))) => NumVal(pow(x, n))\n",
    "        case _ => Error\n",
    "    }\n",
    "    case Neg(e) => eval(env, e) match {\n",
    "        case NumVal(x) => NumVal(negate(x))\n",
    "        case BinVal(p) => BinVal(not(p))\n",
    "        case Error     => Error\n",
    "    }\n",
    "    case Eq(e1, e2) => (eval(env, e1), eval(env, e2)) match {\n",
    "        case (NumVal(x), NumVal(y)) => BinVal(int_eq(x,y))\n",
    "        case (BinVal(p), BinVal(q)) => BinVal(bool_eq(p,q))\n",
    "        case _                      => Error\n",
    "    }\n",
    "    case And(e1, e2) => eval_bin_bool(and, env, e1, e2)\n",
    "    case Or(e1, e2)  => eval_bin_bool(or, env, e1, e2)\n",
    "    case IfThenElse(p, e_t, e_f) => eval(env, p) match{\n",
    "        case BinVal(True)  => eval(env, e_t)\n",
    "        case BinVal(False) => eval(env, e_f)\n",
    "        case _             => Error\n",
    "    }\n",
    "    case Let(id, df, body) => eval(env, df) match{\n",
    "        case Error => Error\n",
    "        case x     => {\n",
    "            val new_env = Extend(id, x, env)\n",
    "            eval(new_env , body)\n",
    "        }\n",
    "    }\n",
    "    \n",
    "    case FunDef(x, e_body) => Closure(x, e_body, env)\n",
    "    \n",
    "    case FunCall(e_f, e_arg) => eval(env, e_f) match\n",
    "    {\n",
    "        case Closure(x, ex, env1) => eval(env, e_arg) match\n",
    "        {\n",
    "            case Error => Error\n",
    "            case x1 => {eval(Extend(x, x1, env1), ex)}\n",
    "        }\n",
    "        case _ => Error\n",
    "    }\n",
    "        \n",
    "    \n",
    "    case LetRec(x_name, x_param, e_body, e_in) => eval(ExtendRec(x_name, x_param, e_body, env), e_in) \n",
    "        \n",
    "}\n",
    "\n",
    "def eval_bin_arith( op : (Integer, Integer) => Integer\n",
    "                  , env : Environment\n",
    "                  , e1 : Expr\n",
    "                  , e2 : Expr) : Value \n",
    "    = (eval(env, e1), eval(env, e2)) match{\n",
    "        case (NumVal(x), NumVal(y)) => NumVal(op(x,y))\n",
    "        case _ => Error\n",
    "    }\n",
    "\n",
    "def eval_bin_bool( op : (Bool, Bool) => Bool\n",
    "                 , env : Environment\n",
    "                 , e1 : Expr\n",
    "                 , e2 : Expr) : Value \n",
    "    = (eval(env, e1), eval(env, e2)) match{\n",
    "        case (BinVal(x), BinVal(y)) => BinVal(op(x,y))\n",
    "        case _ => Error\n",
    "    }"
   ]
  },
  {
   "cell_type": "code",
   "execution_count": 54,
   "metadata": {
    "deletable": false,
    "editable": false,
    "nbgrader": {
     "checksum": "5f6dcefdfdccb6b66d2f31bd8cb6a7f2",
     "grade": true,
     "grade_id": "cell-c792093c303f5ff3",
     "locked": true,
     "points": 5,
     "schema_version": 1,
     "solution": false
    }
   },
   "outputs": [
    {
     "name": "stdout",
     "output_type": "stream",
     "text": [
      "\n",
      "*** Tests Passed (5 points) ***\n"
     ]
    },
    {
     "data": {
      "text/plain": [
       "\u001b[36mx\u001b[39m: \u001b[32mIdent\u001b[39m = \u001b[33mIdent\u001b[39m(\u001b[32m\"x\"\u001b[39m)\n",
       "\u001b[36mf\u001b[39m: \u001b[32mIdent\u001b[39m = \u001b[33mIdent\u001b[39m(\u001b[32m\"f\"\u001b[39m)\n",
       "\u001b[36me_1\u001b[39m: \u001b[32mFunDef\u001b[39m = \u001b[33mFunDef\u001b[39m(\u001b[32m\"x\"\u001b[39m, \u001b[33mIdent\u001b[39m(\u001b[32m\"x\"\u001b[39m))"
      ]
     },
     "execution_count": 54,
     "metadata": {},
     "output_type": "execute_result"
    }
   ],
   "source": [
    "//\n",
    "// Tests Function definition\n",
    "//\n",
    "\n",
    "val x = Ident(\"x\")\n",
    "val f = Ident(\"f\")\n",
    "\n",
    "// function(x) x\n",
    "val e_1 = FunDef(\"x\", x)\n",
    "assert(eval(EmptyEnv, e_1) == Closure(\"x\", x, EmptyEnv))\n",
    "passed(5)"
   ]
  },
  {
   "cell_type": "code",
   "execution_count": 55,
   "metadata": {
    "deletable": false,
    "editable": false,
    "nbgrader": {
     "checksum": "dbc79b394caa9bf37e6f38574aa62d9a",
     "grade": true,
     "grade_id": "cell-9fe33b6093804635",
     "locked": true,
     "points": 5,
     "schema_version": 1,
     "solution": false
    }
   },
   "outputs": [
    {
     "name": "stdout",
     "output_type": "stream",
     "text": [
      "\n",
      "*** Tests Passed (5 points) ***\n"
     ]
    },
    {
     "data": {
      "text/plain": [
       "\u001b[36me_2\u001b[39m: \u001b[32mFunCall\u001b[39m = \u001b[33mFunCall\u001b[39m(\u001b[33mFunDef\u001b[39m(\u001b[32m\"x\"\u001b[39m, \u001b[33mIdent\u001b[39m(\u001b[32m\"x\"\u001b[39m)), \u001b[33mNum\u001b[39m(\u001b[33mPositive\u001b[39m(\u001b[33mSucc\u001b[39m(\u001b[33mSucc\u001b[39m(Zero)))))"
      ]
     },
     "execution_count": 55,
     "metadata": {},
     "output_type": "execute_result"
    }
   ],
   "source": [
    "//\n",
    "// Tests Function Calls\n",
    "//\n",
    "\n",
    "// (function(x) x)(2)\n",
    "val e_2 = FunCall(e_1, Num(Positive(two)))\n",
    "assert(eval(EmptyEnv, e_2) == NumVal(Positive(two)))\n",
    "passed(5)"
   ]
  },
  {
   "cell_type": "code",
   "execution_count": 56,
   "metadata": {
    "deletable": false,
    "editable": false,
    "nbgrader": {
     "checksum": "e049163263495eeb89c861814d1e55a1",
     "grade": true,
     "grade_id": "cell-4a098bd53eae5460",
     "locked": true,
     "points": 5,
     "schema_version": 1,
     "solution": false
    }
   },
   "outputs": [
    {
     "name": "stdout",
     "output_type": "stream",
     "text": [
      "\n",
      "*** Tests Passed (5 points) ***\n"
     ]
    },
    {
     "data": {
      "text/plain": [
       "\u001b[36me_3\u001b[39m: \u001b[32mLet\u001b[39m = \u001b[33mLet\u001b[39m(\n",
       "  \u001b[32m\"y\"\u001b[39m,\n",
       "  \u001b[33mNum\u001b[39m(\u001b[33mPositive\u001b[39m(\u001b[33mSucc\u001b[39m(\u001b[33mSucc\u001b[39m(\u001b[33mSucc\u001b[39m(Zero))))),\n",
       "  \u001b[33mLet\u001b[39m(\n",
       "    \u001b[32m\"f\"\u001b[39m,\n",
       "    \u001b[33mFunDef\u001b[39m(\u001b[32m\"x\"\u001b[39m, \u001b[33mIdent\u001b[39m(\u001b[32m\"y\"\u001b[39m)),\n",
       "    \u001b[33mLet\u001b[39m(\n",
       "      \u001b[32m\"y\"\u001b[39m,\n",
       "      \u001b[33mNum\u001b[39m(\u001b[33mPositive\u001b[39m(\u001b[33mSucc\u001b[39m(\u001b[33mSucc\u001b[39m(\u001b[33mSucc\u001b[39m(\u001b[33mSucc\u001b[39m(Zero)))))),\n",
       "      \u001b[33mFunCall\u001b[39m(\u001b[33mIdent\u001b[39m(\u001b[32m\"f\"\u001b[39m), \u001b[33mNum\u001b[39m(\u001b[33mPositive\u001b[39m(Zero)))\n",
       "    )\n",
       "  )\n",
       ")"
      ]
     },
     "execution_count": 56,
     "metadata": {},
     "output_type": "execute_result"
    }
   ],
   "source": [
    "//\n",
    "// Tests Closed environments\n",
    "//\n",
    "\n",
    "// let y = 3 in\n",
    "//   let f = function(x) y in\n",
    "//     let y = 4 in\n",
    "//       f(0)\n",
    "val e_3 =\n",
    "    Let(\"y\", Num(Positive(three)),\n",
    "        Let(\"f\", FunDef(\"x\", Ident(\"y\")),\n",
    "            Let(\"y\", Num(Positive(four)),\n",
    "                FunCall(f, Num(Positive(Zero)))\n",
    "            )\n",
    "        )\n",
    "    )\n",
    "assert(eval(EmptyEnv, e_3) == NumVal(Positive(three)))\n",
    "passed(5)"
   ]
  },
  {
   "cell_type": "code",
   "execution_count": 61,
   "metadata": {
    "deletable": false,
    "editable": false,
    "nbgrader": {
     "checksum": "cc3a1462619c7e00538b5ca725ec985a",
     "grade": true,
     "grade_id": "cell-eba386ff1a243aa5",
     "locked": true,
     "points": 5,
     "schema_version": 1,
     "solution": false
    }
   },
   "outputs": [
    {
     "name": "stdout",
     "output_type": "stream",
     "text": [
      "\n",
      "*** Tests Passed (5 points) ***\n"
     ]
    },
    {
     "data": {
      "text/plain": [
       "\u001b[36mfactorial_body\u001b[39m: \u001b[32mIfThenElse\u001b[39m = \u001b[33mIfThenElse\u001b[39m(\n",
       "  \u001b[33mEq\u001b[39m(\u001b[33mIdent\u001b[39m(\u001b[32m\"x\"\u001b[39m), \u001b[33mNum\u001b[39m(\u001b[33mPositive\u001b[39m(Zero))),\n",
       "  \u001b[33mNum\u001b[39m(\u001b[33mPositive\u001b[39m(\u001b[33mSucc\u001b[39m(Zero))),\n",
       "  \u001b[33mMult\u001b[39m(\n",
       "    \u001b[33mIdent\u001b[39m(\u001b[32m\"x\"\u001b[39m),\n",
       "    \u001b[33mFunCall\u001b[39m(\u001b[33mIdent\u001b[39m(\u001b[32m\"f\"\u001b[39m), \u001b[33mMinus\u001b[39m(\u001b[33mIdent\u001b[39m(\u001b[32m\"x\"\u001b[39m), \u001b[33mNum\u001b[39m(\u001b[33mPositive\u001b[39m(\u001b[33mSucc\u001b[39m(Zero)))))\n",
       "  )\n",
       ")\n",
       "\u001b[36me_1\u001b[39m: \u001b[32mLetRec\u001b[39m = \u001b[33mLetRec\u001b[39m(\n",
       "  \u001b[32m\"f\"\u001b[39m,\n",
       "  \u001b[32m\"x\"\u001b[39m,\n",
       "  \u001b[33mIfThenElse\u001b[39m(\n",
       "    \u001b[33mEq\u001b[39m(\u001b[33mIdent\u001b[39m(\u001b[32m\"x\"\u001b[39m), \u001b[33mNum\u001b[39m(\u001b[33mPositive\u001b[39m(Zero))),\n",
       "    \u001b[33mNum\u001b[39m(\u001b[33mPositive\u001b[39m(\u001b[33mSucc\u001b[39m(Zero))),\n",
       "    \u001b[33mMult\u001b[39m(\n",
       "      \u001b[33mIdent\u001b[39m(\u001b[32m\"x\"\u001b[39m),\n",
       "      \u001b[33mFunCall\u001b[39m(\u001b[33mIdent\u001b[39m(\u001b[32m\"f\"\u001b[39m), \u001b[33mMinus\u001b[39m(\u001b[33mIdent\u001b[39m(\u001b[32m\"x\"\u001b[39m), \u001b[33mNum\u001b[39m(\u001b[33mPositive\u001b[39m(\u001b[33mSucc\u001b[39m(Zero)))))\n",
       "    )\n",
       "  ),\n",
       "  \u001b[33mFunCall\u001b[39m(\u001b[33mIdent\u001b[39m(\u001b[32m\"f\"\u001b[39m), \u001b[33mNum\u001b[39m(\u001b[33mPositive\u001b[39m(\u001b[33mSucc\u001b[39m(\u001b[33mSucc\u001b[39m(\u001b[33mSucc\u001b[39m(Zero))))))\n",
       ")"
      ]
     },
     "execution_count": 61,
     "metadata": {},
     "output_type": "execute_result"
    }
   ],
   "source": [
    "//\n",
    "// Tests Recursion\n",
    "//\n",
    "\n",
    "// if x == 0 then 1 else x * f(x - 1)\n",
    "val factorial_body = IfThenElse(\n",
    "    Eq(x, Num(Positive(Zero))),\n",
    "    Num(Positive(one)),\n",
    "    Mult(x, FunCall(f, Minus(x, Num(Positive(one)))))\n",
    ")\n",
    "\n",
    "// let rec f = function(x) if x == 0 then 1 else x * f(x - 1)\n",
    "//     in f(3)\n",
    "val e_1 = LetRec(\"f\", \"x\", factorial_body, FunCall(f, Num(Positive(three))))\n",
    "\n",
    "assert(eval(EmptyEnv, e_1) == NumVal(Positive(six)))\n",
    "passed(5)"
   ]
  },
  {
   "cell_type": "code",
   "execution_count": null,
   "metadata": {},
   "outputs": [],
   "source": []
  }
 ],
 "metadata": {
  "kernelspec": {
   "display_name": "Scala",
   "language": "scala",
   "name": "scala"
  },
  "language_info": {
   "codemirror_mode": "text/x-scala",
   "file_extension": ".scala",
   "mimetype": "text/x-scala",
   "name": "scala",
   "nbconvert_exporter": "script",
   "version": "2.12.9"
  }
 },
 "nbformat": 4,
 "nbformat_minor": 2
}
