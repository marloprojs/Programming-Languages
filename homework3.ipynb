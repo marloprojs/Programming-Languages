{
 "cells": [
  {
   "cell_type": "code",
   "execution_count": 1,
   "metadata": {
    "deletable": false,
    "editable": false,
    "nbgrader": {
     "checksum": "a7169b07572616c2c65002d8f2270675",
     "grade": false,
     "grade_id": "cell-597e59ae79505596",
     "locked": true,
     "schema_version": 1,
     "solution": false
    }
   },
   "outputs": [
    {
     "data": {
      "text/plain": [
       "\u001b[32mimport \u001b[39m\u001b[36m$file.$            \n",
       "\u001b[39m\n",
       "\u001b[32mimport \u001b[39m\u001b[36mhw3stdlib_new._\u001b[39m"
      ]
     },
     "execution_count": 1,
     "metadata": {},
     "output_type": "execute_result"
    }
   ],
   "source": [
    "import $file.hw3stdlib_new\n",
    "import hw3stdlib_new._"
   ]
  },
  {
   "cell_type": "markdown",
   "metadata": {
    "deletable": false,
    "editable": false,
    "nbgrader": {
     "checksum": "0cb4f1ae35a720ce2a03fa0f096de421",
     "grade": false,
     "grade_id": "cell-2c05ba4d46efec6c",
     "locked": true,
     "schema_version": 1,
     "solution": false
    }
   },
   "source": [
    "# Homework 3\n",
    "\n",
    "Due 9/22 at 11:59pm\n",
    "\n",
    "## Submission Instructions\n",
    "Upload only this .ipynb file to Canvas. Do not add anything to hw2stdlib since you can't submit it.\n",
    "\n",
    "In this homework we will develop more higher order functions and learn how to use fold.\n",
    "\n",
    "See [This link](https://www.notion.so/Guidelines-for-Programming-Homework-dbd25efa7bb24915ae6bcb06827fc5b6) for what is and isn't allowed in your code. "
   ]
  },
  {
   "cell_type": "markdown",
   "metadata": {
    "deletable": false,
    "editable": false,
    "nbgrader": {
     "checksum": "5ce019318b0331f3c28fba5158a083e9",
     "grade": false,
     "grade_id": "cell-f5597f5037957d34",
     "locked": true,
     "schema_version": 1,
     "solution": false
    }
   },
   "source": [
    "## Problem 1 (5 Points)\n",
    "\n",
    "Write the filter function. Remember that this should be polymorphic. So:\n",
    "\n",
    "$$\n",
    "filter : (a \\rightarrow \\mathbb{B}) \\rightarrow List\\ a \\rightarrow List\\ a\n",
    "$$\n",
    "\n",
    "Do not curry the parameters in the Scala version. If the predicate (The function we give it) is true for an element, then that element will be in the output list. If it's false leave it out."
   ]
  },
  {
   "cell_type": "code",
   "execution_count": 23,
   "metadata": {
    "deletable": false,
    "nbgrader": {
     "checksum": "5b99edd64f3619ff38a071224b40bd22",
     "grade": false,
     "grade_id": "cell-9b2228c9dd99027a",
     "locked": false,
     "schema_version": 1,
     "solution": true
    }
   },
   "outputs": [
    {
     "data": {
      "text/plain": [
       "defined \u001b[32mfunction\u001b[39m \u001b[36mfilter\u001b[39m"
      ]
     },
     "execution_count": 23,
     "metadata": {},
     "output_type": "execute_result"
    }
   ],
   "source": [
    "def filter[a](f: (a =>Bool), x: List[a]) : List[a] = x match {\n",
    "    case Empty => Empty\n",
    "    case Cons(z, zs) => f(z) match {\n",
    "        case True => Cons(z, filter(f, zs))\n",
    "        case False => filter(f, zs)\n",
    "    }\n",
    "}"
   ]
  },
  {
   "cell_type": "code",
   "execution_count": 24,
   "metadata": {
    "deletable": false,
    "editable": false,
    "nbgrader": {
     "checksum": "99896d2be0a1bd9e894bff493e3de5c8",
     "grade": true,
     "grade_id": "cell-b64b76d103b58574",
     "locked": true,
     "points": 4,
     "schema_version": 1,
     "solution": false
    }
   },
   "outputs": [
    {
     "name": "stdout",
     "output_type": "stream",
     "text": [
      "\n",
      "*** Tests Passed (4 points) ***\n"
     ]
    }
   ],
   "source": [
    "assert(filter((n: Nat) => lte(n, two), Cons(three, Cons(two, Empty))) == Cons(two, Empty), 1)\n",
    "assert(filter((n: Nat) => lte(n, two), Empty) == Empty, 2)\n",
    "assert(filter((n: Nat) => lte(n, four), Cons(three, Cons(two, Empty))) == Cons(three, Cons(two, Empty)), 3)\n",
    "passed(4)"
   ]
  },
  {
   "cell_type": "code",
   "execution_count": null,
   "metadata": {
    "deletable": false,
    "editable": false,
    "nbgrader": {
     "checksum": "d9901e8a1f9859bddd29086b51bb2081",
     "grade": true,
     "grade_id": "cell-0539a9bbd0c1b24e",
     "locked": true,
     "points": 1,
     "schema_version": 1,
     "solution": false
    }
   },
   "outputs": [],
   "source": [
    "// HIDDEN TEST (1 pts)"
   ]
  },
  {
   "cell_type": "markdown",
   "metadata": {
    "deletable": false,
    "editable": false,
    "nbgrader": {
     "checksum": "66a76e638bdf2ffbc96cc4eaf062a708",
     "grade": false,
     "grade_id": "cell-5b532dfa9d048094",
     "locked": true,
     "schema_version": 1,
     "solution": false
    }
   },
   "source": [
    "### Problem 2 (5 Points)\n",
    "\n",
    "Implement the same filter function using a `fold`. Name it `filterWithFold`. (Hint, take a look at the `append` and / or `reverse` functions in the standard library)."
   ]
  },
  {
   "cell_type": "code",
   "execution_count": 25,
   "metadata": {
    "deletable": false,
    "nbgrader": {
     "checksum": "77ef3e14adb3861ef321f05a643e46ef",
     "grade": false,
     "grade_id": "cell-16f7380070a66d8e",
     "locked": false,
     "schema_version": 1,
     "solution": true
    }
   },
   "outputs": [
    {
     "data": {
      "text/plain": [
       "defined \u001b[32mfunction\u001b[39m \u001b[36mfilterWithFold\u001b[39m"
      ]
     },
     "execution_count": 25,
     "metadata": {},
     "output_type": "execute_result"
    }
   ],
   "source": [
    "def filterWithFold[a](f: (a =>Bool), x: List[a]) : List[a] = \n",
    "    reverse(fold((y: a, b: List[a]) => f(y) match{\n",
    "        case True => Cons(y, b)\n",
    "        case False => b\n",
    "    }, Empty, x))\n"
   ]
  },
  {
   "cell_type": "code",
   "execution_count": 26,
   "metadata": {
    "deletable": false,
    "editable": false,
    "nbgrader": {
     "checksum": "78631bbba618136ca0a6e404f5d4a23f",
     "grade": true,
     "grade_id": "cell-49c4b0530d9db3ca",
     "locked": true,
     "points": 4,
     "schema_version": 1,
     "solution": false
    }
   },
   "outputs": [
    {
     "name": "stdout",
     "output_type": "stream",
     "text": [
      "\n",
      "*** Tests Passed (4 points) ***\n"
     ]
    }
   ],
   "source": [
    "assert(filterWithFold((n: Nat) => lte(n, two), Cons(three, Cons(two, Empty))) == Cons(two, Empty), 1)\n",
    "assert(filterWithFold((n: Nat) => lte(n, two), Empty) == Empty, 2)\n",
    "assert(filterWithFold((n: Nat) => lte(n, four), Cons(three, Cons(two, Empty))) == Cons(three, Cons(two, Empty)), 3)\n",
    "passed(4)"
   ]
  },
  {
   "cell_type": "code",
   "execution_count": null,
   "metadata": {
    "deletable": false,
    "editable": false,
    "nbgrader": {
     "checksum": "5349ffdc3638058c038ca5ea987133aa",
     "grade": true,
     "grade_id": "cell-633a0587e8ffb49f",
     "locked": true,
     "points": 1,
     "schema_version": 1,
     "solution": false
    }
   },
   "outputs": [],
   "source": [
    "// HIDDEN TEST (1 pts)"
   ]
  },
  {
   "cell_type": "markdown",
   "metadata": {
    "deletable": false,
    "editable": false,
    "nbgrader": {
     "checksum": "db342fbe5e5cde37291ab95322d0cf7e",
     "grade": false,
     "grade_id": "cell-a1e41daa75173c0c",
     "locked": true,
     "schema_version": 1,
     "solution": false
    }
   },
   "source": [
    "### Problem 3 (5 points)\n",
    "Implement a function $$ifThenElse: \\mathbb{B} \\rightarrow a \\rightarrow a \\rightarrow a$$ which chooses either the first $A$ given if the bool is true or the second if it's false."
   ]
  },
  {
   "cell_type": "code",
   "execution_count": 27,
   "metadata": {
    "deletable": false,
    "nbgrader": {
     "checksum": "03e7130cd2b4a574dd9a6b63cdd0654c",
     "grade": false,
     "grade_id": "cell-bcd9251068007fe3",
     "locked": false,
     "schema_version": 1,
     "solution": true
    }
   },
   "outputs": [
    {
     "data": {
      "text/plain": [
       "defined \u001b[32mfunction\u001b[39m \u001b[36mifThenElse\u001b[39m"
      ]
     },
     "execution_count": 27,
     "metadata": {},
     "output_type": "execute_result"
    }
   ],
   "source": [
    "def ifThenElse[a](x: Bool)(a1: a)(a2: a) : a = x match {\n",
    "    case True => a1\n",
    "    case False => a2\n",
    "}"
   ]
  },
  {
   "cell_type": "code",
   "execution_count": 28,
   "metadata": {
    "deletable": false,
    "editable": false,
    "nbgrader": {
     "checksum": "19a2b1b088b01ab20902d5c782fbe6fb",
     "grade": true,
     "grade_id": "cell-fc7f7449ac47fa14",
     "locked": true,
     "points": 4,
     "schema_version": 1,
     "solution": false
    }
   },
   "outputs": [
    {
     "name": "stdout",
     "output_type": "stream",
     "text": [
      "\n",
      "*** Tests Passed (4 points) ***\n"
     ]
    }
   ],
   "source": [
    "assert(ifThenElse(True)(one)(two) == one)\n",
    "assert(ifThenElse(False)(one)(two) == two)\n",
    "passed(4)"
   ]
  },
  {
   "cell_type": "code",
   "execution_count": null,
   "metadata": {
    "deletable": false,
    "editable": false,
    "nbgrader": {
     "checksum": "710354148f9531f3dece7486584b34ed",
     "grade": true,
     "grade_id": "cell-d4683268f4a95148",
     "locked": true,
     "points": 1,
     "schema_version": 1,
     "solution": false
    }
   },
   "outputs": [],
   "source": [
    "// HIDDEN TEST (1 pts)"
   ]
  },
  {
   "cell_type": "markdown",
   "metadata": {
    "deletable": false,
    "editable": false,
    "nbgrader": {
     "checksum": "61dc9f4aca4d47726b679d0b773a54ac",
     "grade": false,
     "grade_id": "cell-66e4b323026583ec",
     "locked": true,
     "schema_version": 1,
     "solution": false
    }
   },
   "source": [
    "### Problem 4 (5 points)\n",
    "Implement the `Maybe` type:\n",
    "$$\n",
    "\\begin{align}\n",
    "Maybe\\ a\\ :=\\ \\text{None}\\ \\mid\\ \\text{Just}\\ a\\\n",
    "\\end{align}\n",
    "$$\n",
    "Take a look at the definition of `List` in the stdlib as a starting point"
   ]
  },
  {
   "cell_type": "code",
   "execution_count": 29,
   "metadata": {
    "deletable": false,
    "nbgrader": {
     "checksum": "eb656befbf8b25ef16ddf5262728bb86",
     "grade": false,
     "grade_id": "cell-9ee3e730ef837143",
     "locked": false,
     "schema_version": 1,
     "solution": true
    }
   },
   "outputs": [
    {
     "data": {
      "text/plain": [
       "defined \u001b[32mtrait\u001b[39m \u001b[36mMaybe\u001b[39m\n",
       "defined \u001b[32mobject\u001b[39m \u001b[36mNone\u001b[39m\n",
       "defined \u001b[32mclass\u001b[39m \u001b[36mJust\u001b[39m"
      ]
     },
     "execution_count": 29,
     "metadata": {},
     "output_type": "execute_result"
    }
   ],
   "source": [
    "sealed trait Maybe[+a]\n",
    "case object None extends Maybe[Nothing]\n",
    "case class Just[a](x: a) extends Maybe[a]"
   ]
  },
  {
   "cell_type": "code",
   "execution_count": 30,
   "metadata": {
    "deletable": false,
    "editable": false,
    "nbgrader": {
     "checksum": "2758734c24796a0456df5ef4148e5d2f",
     "grade": true,
     "grade_id": "cell-7c1e8b1d9b6f1079",
     "locked": true,
     "points": 4,
     "schema_version": 1,
     "solution": false
    }
   },
   "outputs": [
    {
     "name": "stdout",
     "output_type": "stream",
     "text": [
      "\n",
      "*** Tests Passed (4 points) ***\n"
     ]
    },
    {
     "data": {
      "text/plain": [
       "\u001b[36mmx\u001b[39m: \u001b[32mMaybe\u001b[39m[\u001b[32mNat\u001b[39m] = None\n",
       "\u001b[36mmy\u001b[39m: \u001b[32mJust\u001b[39m[\u001b[32mSucc\u001b[39m] = Just(Succ(Succ(Succ(Zero))))\n",
       "\u001b[36mres29_2\u001b[39m: \u001b[32mSucc\u001b[39m = Succ(Succ(Zero))"
      ]
     },
     "execution_count": 30,
     "metadata": {},
     "output_type": "execute_result"
    }
   ],
   "source": [
    "val mx: Maybe[Nat] = None\n",
    "val my = Just(three)\n",
    "(None: Maybe[Nat]) match {\n",
    "    case None => two\n",
    "    case Just(n) => three\n",
    "}\n",
    "passed(4)"
   ]
  },
  {
   "cell_type": "code",
   "execution_count": null,
   "metadata": {
    "deletable": false,
    "editable": false,
    "nbgrader": {
     "checksum": "089fa19e0f4637336a09f9538357767c",
     "grade": true,
     "grade_id": "cell-8201540dbf3222f9",
     "locked": true,
     "points": 1,
     "schema_version": 1,
     "solution": false
    }
   },
   "outputs": [],
   "source": [
    "// HIDDEN TEST (1 pts)"
   ]
  },
  {
   "cell_type": "markdown",
   "metadata": {
    "deletable": false,
    "editable": false,
    "nbgrader": {
     "checksum": "ec944f28625b3809cd7218e90b111b41",
     "grade": false,
     "grade_id": "cell-c0793fcb256b6308",
     "locked": true,
     "schema_version": 1,
     "solution": false
    }
   },
   "source": [
    "### Problem 5 (5 points)\n",
    "Implement\n",
    "\n",
    "$$\n",
    "map: (a \\rightarrow b) \\rightarrow Maybe\\ a \\rightarrow Maybe\\ b\n",
    "$$\n",
    "\n",
    "Don't curry the function in the Scala implementation. Similarly to lists, it should return `None` if given `None` and should return `Just(f(value))` if it contains a value."
   ]
  },
  {
   "cell_type": "code",
   "execution_count": 31,
   "metadata": {
    "deletable": false,
    "nbgrader": {
     "checksum": "8643eb8fb90dd5f6a8df4219bdea4e29",
     "grade": false,
     "grade_id": "cell-2798ee2b3f2a50f6",
     "locked": false,
     "schema_version": 1,
     "solution": true
    }
   },
   "outputs": [
    {
     "data": {
      "text/plain": [
       "defined \u001b[32mfunction\u001b[39m \u001b[36mmap\u001b[39m"
      ]
     },
     "execution_count": 31,
     "metadata": {},
     "output_type": "execute_result"
    }
   ],
   "source": [
    "def map[a,b](f: (a => b), x: Maybe[a]) : Maybe[b] = x match {\n",
    "    case None => None\n",
    "    case Just(x) => Just(f(x))\n",
    "}"
   ]
  },
  {
   "cell_type": "code",
   "execution_count": 32,
   "metadata": {
    "deletable": false,
    "editable": false,
    "nbgrader": {
     "checksum": "7c3a24e223475e49721f75cffee3091c",
     "grade": true,
     "grade_id": "cell-722112b63bcac170",
     "locked": true,
     "points": 4,
     "schema_version": 1,
     "solution": false
    }
   },
   "outputs": [
    {
     "name": "stdout",
     "output_type": "stream",
     "text": [
      "\n",
      "*** Tests Passed (4 points) ***\n"
     ]
    }
   ],
   "source": [
    "assert(map(plus(_: Nat, four), None) == None)\n",
    "assert(map(plus(_: Nat, four), Just(one)) == Just(five))\n",
    "passed(4)"
   ]
  },
  {
   "cell_type": "code",
   "execution_count": null,
   "metadata": {
    "deletable": false,
    "editable": false,
    "nbgrader": {
     "checksum": "493502c95abb8d5ed39cfb81561732d4",
     "grade": true,
     "grade_id": "cell-0ce38fa2255b8c9d",
     "locked": true,
     "points": 1,
     "schema_version": 1,
     "solution": false
    }
   },
   "outputs": [],
   "source": [
    "// HIDDEN TEST (1 pts)"
   ]
  }
 ],
 "metadata": {
  "kernelspec": {
   "display_name": "Scala",
   "language": "scala",
   "name": "scala"
  },
  "language_info": {
   "codemirror_mode": "text/x-scala",
   "file_extension": ".scala",
   "mimetype": "text/x-scala",
   "name": "scala211",
   "nbconvert_exporter": "script",
   "pygments_lexer": "scala",
   "version": "2.11.11"
  }
 },
 "nbformat": 4,
 "nbformat_minor": 2
}
