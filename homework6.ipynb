{
 "cells": [
  {
   "cell_type": "code",
   "execution_count": 22,
   "metadata": {
    "deletable": false,
    "editable": false,
    "nbgrader": {
     "checksum": "f28b8382609e66cba3dc8cfe6deb31ea",
     "grade": false,
     "grade_id": "cell-1bf66ad96dc2c372",
     "locked": true,
     "schema_version": 1,
     "solution": false
    }
   },
   "outputs": [
    {
     "name": "stdout",
     "output_type": "stream",
     "text": [
      "Compiling hw6stdlib.sc\n"
     ]
    },
    {
     "data": {
      "text/plain": [
       "\u001b[32mimport \u001b[39m\u001b[36m$file.$        \n",
       "\u001b[39m\n",
       "\u001b[32mimport \u001b[39m\u001b[36mhw6stdlib._\u001b[39m"
      ]
     },
     "execution_count": 22,
     "metadata": {},
     "output_type": "execute_result"
    }
   ],
   "source": [
    "import $file.hw6stdlib\n",
    "import hw6stdlib._"
   ]
  },
  {
   "cell_type": "markdown",
   "metadata": {
    "deletable": false,
    "editable": false,
    "nbgrader": {
     "checksum": "0f773a425be8b7df72a897e43b296ede",
     "grade": false,
     "grade_id": "cell-67f9678d93f4c141",
     "locked": true,
     "schema_version": 1,
     "solution": false
    }
   },
   "source": [
    "# Homework 6\n",
    "\n",
    "Due 10/20 at 11:59pm\n",
    "\n",
    "In this assignment we will write the first full interpreter for Lettuce. Remember that lettuce is a functional language with let bindings. It is very similiar to a language called ML. Here we want to implement the interpreter for the language from the ground up. We will use most of the existing standard library we have developed while we write this, especially the equality functions and Dictionary data type from the last homework.\n",
    "\n",
    "## Submission Instructions\n",
    "Upload only this .ipynb file to Canvas. Do not add anything to stdlib since you can't submit it.\n",
    "\n",
    "In this homework we will define integers and their operations, then build an interpreter.\n",
    "\n",
    "See [this link](https://www.notion.so/Guidelines-for-Programming-Homework-dbd25efa7bb24915ae6bcb06827fc5b6) for what is and isn't allowed in your code. "
   ]
  },
  {
   "cell_type": "markdown",
   "metadata": {
    "deletable": false,
    "editable": false,
    "nbgrader": {
     "checksum": "dbcd3a7d6a97e643035a9de83247d838",
     "grade": false,
     "grade_id": "cell-64283841166d332c",
     "locked": true,
     "schema_version": 1,
     "solution": false
    }
   },
   "source": [
    "\n",
    "\n",
    "## Problem 1 - The Values (5 points)\n",
    "\n",
    "Recall that we define interpreters as functions that take in expressions in the form of abstract syntax and give a value as output. In symbols:\n",
    "\n",
    "$$\n",
    "eval : Expr \\rightarrow Value\n",
    "$$\n",
    "\n",
    "It follows that we will need to create a datatype to represent the values that may be computed by lettuce. Bellow is the grammar that defines lettuce values. Implemenet this as a `sealead trait` in Scala below:\n",
    "\n",
    "$$\n",
    "\\begin{align}\n",
    "\\textbf{Value} ::=&\\ NumVal\\ \\mathbb{Z}\\\\\n",
    "\\mid&\\ BinVal\\ \\mathbb{B}\\\\\n",
    "\\mid&\\ Error\n",
    "\\end{align}\n",
    "$$"
   ]
  },
  {
   "cell_type": "code",
   "execution_count": 23,
   "metadata": {
    "deletable": false,
    "nbgrader": {
     "checksum": "713af9eac528122597a1e886f5982d01",
     "grade": false,
     "grade_id": "cell-391681632efbcae0",
     "locked": false,
     "schema_version": 1,
     "solution": true
    }
   },
   "outputs": [
    {
     "data": {
      "text/plain": [
       "defined \u001b[32mtrait\u001b[39m \u001b[36mValue\u001b[39m\n",
       "defined \u001b[32mobject\u001b[39m \u001b[36mError\u001b[39m\n",
       "defined \u001b[32mclass\u001b[39m \u001b[36mNumVal\u001b[39m\n",
       "defined \u001b[32mclass\u001b[39m \u001b[36mBinVal\u001b[39m"
      ]
     },
     "execution_count": 23,
     "metadata": {},
     "output_type": "execute_result"
    }
   ],
   "source": [
    "sealed trait Value\n",
    "case object Error extends Value\n",
    "case class NumVal(x: Integer) extends Value\n",
    "case class BinVal(y: Bool) extends Value"
   ]
  },
  {
   "cell_type": "markdown",
   "metadata": {
    "deletable": false,
    "editable": false,
    "nbgrader": {
     "checksum": "b94d98036e51d874cf76bcddd9eff02d",
     "grade": false,
     "grade_id": "cell-6c1a3023a1fa2699",
     "locked": true,
     "schema_version": 1,
     "solution": false
    }
   },
   "source": [
    "If your definition was correct then the values in the cell below should compile."
   ]
  },
  {
   "cell_type": "code",
   "execution_count": 24,
   "metadata": {
    "deletable": false,
    "editable": false,
    "nbgrader": {
     "checksum": "5763152f37f5a9babbbac54ef59d824f",
     "grade": true,
     "grade_id": "cell-340a69c358ca9999",
     "locked": true,
     "points": 5,
     "schema_version": 1,
     "solution": false
    }
   },
   "outputs": [
    {
     "name": "stdout",
     "output_type": "stream",
     "text": [
      "\n",
      "*** Tests Passed (5 points) ***\n"
     ]
    },
    {
     "data": {
      "text/plain": [
       "\u001b[36mv1\u001b[39m: \u001b[32mNumVal\u001b[39m = NumVal(Positive(Succ(Succ(Zero))))\n",
       "\u001b[36mv2\u001b[39m: \u001b[32mBinVal\u001b[39m = BinVal(False)\n",
       "\u001b[36mv3\u001b[39m: \u001b[32mError\u001b[39m.type = Error"
      ]
     },
     "execution_count": 24,
     "metadata": {},
     "output_type": "execute_result"
    }
   ],
   "source": [
    "val v1 = NumVal(Positive(Succ(Succ(Zero))))\n",
    "val v2 = BinVal(False)\n",
    "val v3 = Error\n",
    "passed(5)"
   ]
  },
  {
   "cell_type": "markdown",
   "metadata": {},
   "source": [
    "## Problem 2 - The Expressions (10 points)\n",
    "\n",
    "There are many possible expressions in the Lettuce language. We also use an abstract syntax to represent this. Here is the grammar to remind you of all the syntactic elements in Lettuce:\n",
    "\n",
    "$$\\begin{array}{rcll}\n",
    "\\mathbf{Expr} & ::= & Const(\\mathbb{Z}) \\\\\n",
    " & | & Bin(\\mathbb{B}) \\\\\n",
    " & | & Ident(\\mathbf{String}) \\\\\n",
    " & | & Plus(\\mathbf{Expr}, \\mathbf{Expr}) \\\\\n",
    " & | & Minus(\\mathbf{Expr}, \\mathbf{Expr}) \\\\\n",
    " & | & Mult (\\mathbf{Expr}, \\mathbf{Expr}) \\\\\n",
    " & | & Pow (\\mathbf{Expr}, \\mathbf{Expr}) \\\\\n",
    " & | & Neg (\\mathbf{Expr}) \\\\\n",
    " & | & Eq (\\mathbf{Expr}, \\mathbf{Expr}) \\\\\n",
    " & | & And ( \\mathbf{Expr}, \\mathbf{Expr} ) \\\\\n",
    " & | & Or ( \\mathbf{Expr}, \\mathbf{Expr} ) \\\\\n",
    " & | & IfThenElse(\\mathbf{Expr}, \\mathbf{Expr}, \\mathbf{Expr}) \\\\\n",
    " & | & Let( \\mathbf{String}, \\mathbf{Expr}, \\mathbf{Expr}) \\\\\n",
    "\\end{array}$$\n",
    "\n",
    "Now define a `sealed trait` for expressions in Lettuce:"
   ]
  },
  {
   "cell_type": "code",
   "execution_count": 25,
   "metadata": {
    "deletable": false,
    "nbgrader": {
     "checksum": "9fd87e0bf571ae4c2030153cba58e84a",
     "grade": false,
     "grade_id": "cell-da8d56dd2f9827ea",
     "locked": false,
     "schema_version": 1,
     "solution": true
    }
   },
   "outputs": [
    {
     "data": {
      "text/plain": [
       "defined \u001b[32mtrait\u001b[39m \u001b[36mExpr\u001b[39m\n",
       "defined \u001b[32mclass\u001b[39m \u001b[36mConst\u001b[39m\n",
       "defined \u001b[32mclass\u001b[39m \u001b[36mBin\u001b[39m\n",
       "defined \u001b[32mclass\u001b[39m \u001b[36mIdent\u001b[39m\n",
       "defined \u001b[32mclass\u001b[39m \u001b[36mPlus\u001b[39m\n",
       "defined \u001b[32mclass\u001b[39m \u001b[36mMinus\u001b[39m\n",
       "defined \u001b[32mclass\u001b[39m \u001b[36mMult\u001b[39m\n",
       "defined \u001b[32mclass\u001b[39m \u001b[36mPow\u001b[39m\n",
       "defined \u001b[32mclass\u001b[39m \u001b[36mNeg\u001b[39m\n",
       "defined \u001b[32mclass\u001b[39m \u001b[36mEq\u001b[39m\n",
       "defined \u001b[32mclass\u001b[39m \u001b[36mAnd\u001b[39m\n",
       "defined \u001b[32mclass\u001b[39m \u001b[36mOr\u001b[39m\n",
       "defined \u001b[32mclass\u001b[39m \u001b[36mIfThenElse\u001b[39m\n",
       "defined \u001b[32mclass\u001b[39m \u001b[36mLet\u001b[39m"
      ]
     },
     "execution_count": 25,
     "metadata": {},
     "output_type": "execute_result"
    }
   ],
   "source": [
    "sealed trait Expr\n",
    "case class Const(x : Integer) extends Expr\n",
    "case class Bin(x : Bool) extends Expr\n",
    "case class Ident(x : String) extends Expr\n",
    "case class Plus(x : Expr, y : Expr) extends Expr\n",
    "case class Minus(x : Expr, y : Expr) extends Expr\n",
    "case class Mult(x : Expr, y : Expr) extends Expr\n",
    "case class Pow(x : Expr, y : Expr) extends Expr\n",
    "case class Neg(x : Expr) extends Expr\n",
    "case class Eq(x : Expr, y : Expr) extends Expr\n",
    "case class And(x : Expr, y : Expr) extends Expr\n",
    "case class Or(x : Expr, y : Expr) extends Expr\n",
    "case class IfThenElse(p : Expr, t : Expr, f : Expr) extends Expr\n",
    "case class Let(id : String, x : Expr, y : Expr) extends Expr"
   ]
  },
  {
   "cell_type": "markdown",
   "metadata": {
    "deletable": false,
    "editable": false,
    "nbgrader": {
     "checksum": "2c8a126aacf362abfbab1054afc23f5c",
     "grade": false,
     "grade_id": "cell-bf7f1be2df8bd7cd",
     "locked": true,
     "schema_version": 1,
     "solution": false
    }
   },
   "source": [
    "If you defined `Expr` properly then the following expressions should compile:"
   ]
  },
  {
   "cell_type": "code",
   "execution_count": 26,
   "metadata": {
    "deletable": false,
    "editable": false,
    "nbgrader": {
     "checksum": "0f55321fdb14da25c321018d9934f005",
     "grade": true,
     "grade_id": "cell-434cfc719613e07f",
     "locked": true,
     "points": 5,
     "schema_version": 1,
     "solution": false
    }
   },
   "outputs": [
    {
     "name": "stdout",
     "output_type": "stream",
     "text": [
      "\n",
      "*** Tests Passed (5 points) ***\n"
     ]
    },
    {
     "data": {
      "text/plain": [
       "\u001b[36mex1\u001b[39m: \u001b[32mConst\u001b[39m = Const(Positive(Succ(Succ(Succ(Succ(Succ(Zero)))))))\n",
       "\u001b[36mex2\u001b[39m: \u001b[32mConst\u001b[39m = Const(Negative(Succ(Succ(Succ(Zero)))))\n",
       "\u001b[36mex3\u001b[39m: \u001b[32mBin\u001b[39m = Bin(True)\n",
       "\u001b[36mex4\u001b[39m: \u001b[32mIdent\u001b[39m = \u001b[33mIdent\u001b[39m(\u001b[32m\"x\"\u001b[39m)"
      ]
     },
     "execution_count": 26,
     "metadata": {},
     "output_type": "execute_result"
    }
   ],
   "source": [
    "val ex1 = Const(Positive(five))\n",
    "val ex2 = Const(Negative(three))\n",
    "val ex3 = Bin(True)\n",
    "val ex4 = Ident(\"x\")\n",
    "passed(5)"
   ]
  },
  {
   "cell_type": "code",
   "execution_count": 27,
   "metadata": {
    "deletable": false,
    "editable": false,
    "nbgrader": {
     "checksum": "a98caee09132c9e7834b2b03ac1c9553",
     "grade": true,
     "grade_id": "cell-a136dd28f071f6bf",
     "locked": true,
     "points": 5,
     "schema_version": 1,
     "solution": false
    }
   },
   "outputs": [
    {
     "name": "stdout",
     "output_type": "stream",
     "text": [
      "\n",
      "*** Tests Passed (5 points) ***\n"
     ]
    },
    {
     "data": {
      "text/plain": [
       "\u001b[36mex5\u001b[39m: \u001b[32mPlus\u001b[39m = Plus(Const(Positive(Succ(Succ(Succ(Succ(Succ(Zero))))))),Const(Negative(Succ(Succ(Succ(Zero))))))\n",
       "\u001b[36mex6\u001b[39m: \u001b[32mLet\u001b[39m = Let(x,Plus(Const(Positive(Succ(Succ(Succ(Succ(Succ(Zero))))))),Const(Negative(Succ(Succ(Succ(Zero)))))),Mult(Ident(x),Ident(x)))"
      ]
     },
     "execution_count": 27,
     "metadata": {},
     "output_type": "execute_result"
    }
   ],
   "source": [
    "val ex5 = Plus(ex1, ex2)\n",
    "val ex6 = Let(\"x\", ex5, Mult(ex4, ex4))\n",
    "passed(5)"
   ]
  },
  {
   "cell_type": "markdown",
   "metadata": {
    "deletable": false,
    "editable": false,
    "nbgrader": {
     "checksum": "b403969927aae2ebf9eac577691b5913",
     "grade": false,
     "grade_id": "cell-6985bc86a25a089b",
     "locked": true,
     "schema_version": 1,
     "solution": false
    }
   },
   "source": [
    "## Problem 3 - The Interpreter (30 pts)\n",
    "\n",
    "We now need to define the interpreter for this language. It is a function of the form:\n",
    "\n",
    "$$\n",
    "eval : Expr \\rightarrow Value\n",
    "$$\n",
    "\n",
    "Except now that we have an execution environment($\\sigma$) we need some way to include sigma in this function. This will be as an additional argument:\n",
    "\n",
    "$$\n",
    "eval : \\sigma \\rightarrow Expr \\rightarrow Value\n",
    "$$\n",
    "\n",
    "We will let $\\sigma$ be a `Dictionary` as we defined in last week's homework. To add something to a dicitonary use the `Entry` constructor to add on a new element. This should be very similiar to the way `Cons` works on lists.\n",
    "\n",
    "Below we have given you the skeleton of the function `eval`. Fill in each case for the interpreter so that it can interpret all possible Lettuce expressions. The inference rules we covered in the classroom should be very helpful with this.\n",
    "\n",
    "Hint: It may be helpful to define some helper functions for the inference rules that have similar forms. These are the rules like binary operations for arithmetic, bool, etc. Just like we lumped some of these rules together into a single rule, we can do the same for our interpreter in the form of auxillary functions. The bonus `eval_bin` function from Homework 4 may be a good place for inspiration.\n",
    "\n",
    "Hint: Be ready to write some nested case matches. Most of your cases should have two nestings. One for the Sytnax element and another for evaluating the expressions it may contain. This is not true for all expressions but most will "
   ]
  },
  {
   "cell_type": "code",
   "execution_count": 28,
   "metadata": {
    "deletable": false,
    "nbgrader": {
     "checksum": "2ff188e60daa1ea9844a749228564c56",
     "grade": false,
     "grade_id": "cell-1896cbf79a854efa",
     "locked": false,
     "schema_version": 1,
     "solution": true
    },
    "scrolled": true
   },
   "outputs": [
    {
     "data": {
      "text/plain": [
       "defined \u001b[32mfunction\u001b[39m \u001b[36meval\u001b[39m"
      ]
     },
     "execution_count": 28,
     "metadata": {},
     "output_type": "execute_result"
    }
   ],
   "source": [
    "/*def eval_bin_int(x: Dictionary[String, Value], y: Expr, z: Expr, f:(Integer, Integer)=>Integer): Value = {\n",
    "    NumVal(f(eval(x, y), eval(x, z)))\n",
    "}\n",
    "\n",
    "def eval_bin_bool(x: Dictionary[String, Value], y: Expr, z: Expr, f:(Value, Value)=>Bool): Value ={\n",
    "    BinVal(f(eval(x, y), eval(x, z)))\n",
    "}*/\n",
    "\n",
    "def eval(dict: Dictionary[String, Value], z: Expr): Value = z match{\n",
    "    case Bin(x) => BinVal(x)\n",
    "    case Const(x) => NumVal(x)\n",
    "    case Ident(x) => lookup(string_eq, dict, x) match{\n",
    "        case None => Error\n",
    "        case Just(y) => y match{\n",
    "            case NumVal(y) => NumVal(y)\n",
    "            case BinVal(y) => BinVal(y)\n",
    "        }\n",
    "    }\n",
    "    case Mult(x, y) => (eval(dict,x), eval(dict, y)) match{\n",
    "        case(NumVal(x), NumVal(y)) => NumVal(mult(x, y))\n",
    "    }\n",
    "    case Plus(x, y) => (eval(dict,x), eval(dict, y)) match{\n",
    "        case(NumVal(x), NumVal(y)) => NumVal(plus(x, y))\n",
    "    }\n",
    "    case Minus(x, y) => (eval(dict, x), eval(dict,y)) match{\n",
    "        case(NumVal(x), NumVal(y)) => NumVal(minus(x, y))\n",
    "    }\n",
    "    case Pow(x, y) => (eval(dict, x), eval(dict,y)) match{\n",
    "        case(NumVal(x), NumVal(y)) => y match{\n",
    "            case Positive(y) => NumVal(pow(x, y))\n",
    "        }\n",
    "    }\n",
    "    case Neg(x) => eval(dict, x) match{\n",
    "        case Error => Error\n",
    "        case NumVal(x) => x match{\n",
    "            case x => NumVal(negate(x))\n",
    "        }\n",
    "        case BinVal(x) => x match{\n",
    "            case True => BinVal(False)\n",
    "            case False => BinVal(True)\n",
    "        }\n",
    "    }\n",
    "    case Let(id, x, y) => eval(dict, x) match {\n",
    "        case Error => Error\n",
    "        case x => eval(Entry(id, x, dict), y)\n",
    "    }\n",
    "}"
   ]
  },
  {
   "cell_type": "markdown",
   "metadata": {
    "deletable": false,
    "editable": false,
    "nbgrader": {
     "checksum": "6fdf3a4880e73d92a298508462c0bdd3",
     "grade": false,
     "grade_id": "cell-1bbe774dca2d6cfb",
     "locked": true,
     "schema_version": 1,
     "solution": false
    }
   },
   "source": [
    "If this was defined correctly then the definitions above should evaluate:"
   ]
  },
  {
   "cell_type": "code",
   "execution_count": 29,
   "metadata": {},
   "outputs": [
    {
     "data": {
      "text/plain": [
       "\u001b[36mex1\u001b[39m: \u001b[32mConst\u001b[39m = Const(Positive(Succ(Succ(Succ(Succ(Succ(Zero)))))))\n",
       "\u001b[36mex2\u001b[39m: \u001b[32mConst\u001b[39m = Const(Negative(Succ(Succ(Succ(Zero)))))\n",
       "\u001b[36mex3\u001b[39m: \u001b[32mBin\u001b[39m = Bin(True)\n",
       "\u001b[36mex4\u001b[39m: \u001b[32mIdent\u001b[39m = \u001b[33mIdent\u001b[39m(\u001b[32m\"x\"\u001b[39m)\n",
       "\u001b[36mex5\u001b[39m: \u001b[32mPlus\u001b[39m = Plus(Const(Positive(Succ(Succ(Succ(Succ(Succ(Zero))))))),Const(Negative(Succ(Succ(Succ(Zero))))))\n",
       "\u001b[36mex6\u001b[39m: \u001b[32mLet\u001b[39m = Let(x,Plus(Const(Positive(Succ(Succ(Succ(Succ(Succ(Zero))))))),Const(Negative(Succ(Succ(Succ(Zero)))))),Mult(Ident(x),Ident(x)))"
      ]
     },
     "execution_count": 29,
     "metadata": {},
     "output_type": "execute_result"
    }
   ],
   "source": [
    "val ex1 = Const(Positive(five))\n",
    "val ex2 = Const(Negative(three))\n",
    "val ex3 = Bin(True)\n",
    "val ex4 = Ident(\"x\")\n",
    "val ex5 = Plus(ex1, ex2)\n",
    "val ex6 = Let(\"x\", ex5, Mult(ex4, ex4))"
   ]
  },
  {
   "cell_type": "code",
   "execution_count": 30,
   "metadata": {
    "deletable": false,
    "editable": false,
    "nbgrader": {
     "checksum": "cc4a666a677e0f16b2bf0a53a1a127c9",
     "grade": true,
     "grade_id": "cell-85be669cae1b54c0",
     "locked": true,
     "points": 10,
     "schema_version": 1,
     "solution": false
    }
   },
   "outputs": [
    {
     "name": "stdout",
     "output_type": "stream",
     "text": [
      "\n",
      "*** Tests Passed (10 points) ***\n"
     ]
    }
   ],
   "source": [
    "assert(eval(EmptyDict, ex3) == BinVal(True))\n",
    "passed(10)"
   ]
  },
  {
   "cell_type": "code",
   "execution_count": 31,
   "metadata": {
    "deletable": false,
    "editable": false,
    "nbgrader": {
     "checksum": "c53b7e47181a666667293043819e329d",
     "grade": true,
     "grade_id": "cell-5a2474954849e9ca",
     "locked": true,
     "points": 10,
     "schema_version": 1,
     "solution": false
    }
   },
   "outputs": [
    {
     "name": "stdout",
     "output_type": "stream",
     "text": [
      "\n",
      "*** Tests Passed (10 points) ***\n"
     ]
    }
   ],
   "source": [
    "assert(eval(EmptyDict, ex4) == Error)\n",
    "passed(10)"
   ]
  },
  {
   "cell_type": "code",
   "execution_count": 32,
   "metadata": {
    "deletable": false,
    "editable": false,
    "nbgrader": {
     "checksum": "1e297f957282060a940dd41874a6540c",
     "grade": true,
     "grade_id": "cell-6622e46c576f035e",
     "locked": true,
     "points": 10,
     "schema_version": 1,
     "solution": false
    }
   },
   "outputs": [
    {
     "name": "stdout",
     "output_type": "stream",
     "text": [
      "\n",
      "*** Tests Passed (10 points) ***\n"
     ]
    }
   ],
   "source": [
    "assert(eval(EmptyDict, ex5) == NumVal(Positive(two)))\n",
    "assert(eval(EmptyDict, ex6) == NumVal(Positive(four)))\n",
    "passed(10)"
   ]
  },
  {
   "cell_type": "code",
   "execution_count": null,
   "metadata": {},
   "outputs": [],
   "source": []
  }
 ],
 "metadata": {
  "kernelspec": {
   "display_name": "Scala",
   "language": "scala",
   "name": "scala"
  },
  "language_info": {
   "codemirror_mode": "text/x-scala",
   "file_extension": ".scala",
   "mimetype": "text/x-scala",
   "name": "scala211",
   "nbconvert_exporter": "script",
   "pygments_lexer": "scala",
   "version": "2.11.11"
  }
 },
 "nbformat": 4,
 "nbformat_minor": 2
}
