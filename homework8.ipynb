{
 "cells": [
  {
   "cell_type": "code",
   "execution_count": 2,
   "metadata": {
    "deletable": false,
    "editable": false,
    "nbgrader": {
     "checksum": "ec0a82619dc14faf2f5206b09f97421b",
     "grade": false,
     "grade_id": "cell-2294886e48d67ec2",
     "locked": true,
     "schema_version": 1,
     "solution": false
    }
   },
   "outputs": [
    {
     "data": {
      "text/plain": [
       "\u001b[32mimport \u001b[39m\u001b[36m$file.$        \n",
       "\u001b[39m\n",
       "\u001b[32mimport \u001b[39m\u001b[36mhw8stdlib._\u001b[39m"
      ]
     },
     "execution_count": 2,
     "metadata": {},
     "output_type": "execute_result"
    }
   ],
   "source": [
    "import $file.hw8stdlib\n",
    "import hw8stdlib._"
   ]
  },
  {
   "cell_type": "code",
   "execution_count": 3,
   "metadata": {
    "deletable": false,
    "editable": false,
    "nbgrader": {
     "checksum": "3921c98ee89eda946f74d6db9af0ba8a",
     "grade": false,
     "grade_id": "cell-94b9a7f52a9802f4",
     "locked": true,
     "schema_version": 1,
     "solution": false
    }
   },
   "outputs": [
    {
     "data": {
      "text/plain": [
       "defined \u001b[32mtype\u001b[39m \u001b[36mParser\u001b[39m\n",
       "defined \u001b[32mfunction\u001b[39m \u001b[36mchar\u001b[39m\n",
       "defined \u001b[32mfunction\u001b[39m \u001b[36msuccess\u001b[39m\n",
       "defined \u001b[32mfunction\u001b[39m \u001b[36mfailure\u001b[39m\n",
       "defined \u001b[32mfunction\u001b[39m \u001b[36mchoose\u001b[39m"
      ]
     },
     "execution_count": 3,
     "metadata": {},
     "output_type": "execute_result"
    }
   ],
   "source": [
    "type Parser[S,D] = List[S] => List[(D, List[S])]\n",
    "\n",
    "def char(c : Char) : Parser[Char,Char] = \n",
    "(ss : List[Char]) => ss match {\n",
    "    case Empty      => Empty\n",
    "    case Cons(s,ss) => char_eq(s,c) match {\n",
    "        case True  => singleton((s, ss))\n",
    "        case False => Empty\n",
    "    }\n",
    "}\n",
    "\n",
    "def success[S, D](x : D) : Parser[S, D] = \n",
    "  (ss : List[S]) => singleton((x, ss))\n",
    "\n",
    "def failure[S, D]() : Parser[S,D] = (ss : List[S]) => Empty\n",
    "\n",
    "def choose[S, D](p : Parser[S, D], q : Parser[S, D]) : Parser[S, D] = (ss : List[S]) =>\n",
    "{\n",
    "    val p_res = p(ss)\n",
    "    val q_res = q(ss)\n",
    "    append(p_res, q_res)\n",
    "} "
   ]
  },
  {
   "cell_type": "markdown",
   "metadata": {
    "deletable": false,
    "editable": false,
    "nbgrader": {
     "checksum": "278873cc1f000838d8a79658350f17c3",
     "grade": false,
     "grade_id": "cell-a40fb68b8c4445fd",
     "locked": true,
     "schema_version": 1,
     "solution": false
    }
   },
   "source": [
    "# Homework 8\n",
    "\n",
    "In this week's homework we will build up more interesting parsers by creating some new combinators using `bind`"
   ]
  },
  {
   "cell_type": "markdown",
   "metadata": {
    "deletable": false,
    "editable": false,
    "nbgrader": {
     "checksum": "38666652d9b6870f22cd762135665a7c",
     "grade": false,
     "grade_id": "cell-cbcf05c3243f071e",
     "locked": true,
     "schema_version": 1,
     "solution": false
    }
   },
   "source": [
    "## RunParser\n",
    "\n",
    "`runParser` is a useful function for running a parser on an input. You will see it used in some of the examples below."
   ]
  },
  {
   "cell_type": "code",
   "execution_count": 4,
   "metadata": {
    "deletable": false,
    "editable": false,
    "nbgrader": {
     "checksum": "e4de792d5d23463cf384e097750e7045",
     "grade": false,
     "grade_id": "cell-dc32be6674831937",
     "locked": true,
     "schema_version": 1,
     "solution": false
    }
   },
   "outputs": [
    {
     "data": {
      "text/plain": [
       "defined \u001b[32mfunction\u001b[39m \u001b[36mrunParser\u001b[39m"
      ]
     },
     "execution_count": 4,
     "metadata": {},
     "output_type": "execute_result"
    }
   ],
   "source": [
    "def runParser[D](p : Parser[Char, D], s : String) : Maybe[D] = p(string_to_list(s)) match {\n",
    "    case Empty                   => None\n",
    "    case Cons((x, Empty), Empty) => Just(x)\n",
    "    case _                       => None\n",
    "}"
   ]
  },
  {
   "cell_type": "markdown",
   "metadata": {
    "deletable": false,
    "editable": false,
    "nbgrader": {
     "checksum": "7d3fc0aabd43fc57b5b50904a964a149",
     "grade": false,
     "grade_id": "cell-1294adacfb14d02d",
     "locked": true,
     "schema_version": 1,
     "solution": false
    }
   },
   "source": [
    "# Problem 1 - `satisfies` (10 points)\n",
    "\n",
    "For the following type:\n",
    "\n",
    "$$\n",
    "\\text{satisfies } : \\underbrace{(S \\rightarrow \\mathbb{B})}_{\\text{predicate}} \\rightarrow \\textbf{Parser } S\\ \\textbf{Char}\n",
    "$$\n",
    "\n",
    "Implement `satisfies` such that it successfully parses a symbol that the predicate is true for and fails if the predicate is false. \n",
    "\n",
    "***hint*** The implementation of `char` above may be helpful as a starting point."
   ]
  },
  {
   "cell_type": "code",
   "execution_count": 5,
   "metadata": {
    "deletable": false,
    "nbgrader": {
     "checksum": "efe837e3d54ebe9b5af9f1b62b6a5459",
     "grade": false,
     "grade_id": "cell-924855df1a633845",
     "locked": false,
     "schema_version": 1,
     "solution": true
    }
   },
   "outputs": [
    {
     "data": {
      "text/plain": [
       "defined \u001b[32mfunction\u001b[39m \u001b[36msatisfies\u001b[39m"
      ]
     },
     "execution_count": 5,
     "metadata": {},
     "output_type": "execute_result"
    }
   ],
   "source": [
    "def satisfies[S](p : (S => Bool)) : Parser[S, S] = (xs : List[S]) => xs match{\n",
    "    case Empty => Empty\n",
    "    case Cons(s, ss) => p(s) match{\n",
    "        case True => singleton((s, ss))\n",
    "        case False => Empty\n",
    "    }\n",
    "} \n"
   ]
  },
  {
   "cell_type": "code",
   "execution_count": 6,
   "metadata": {
    "deletable": false,
    "editable": false,
    "nbgrader": {
     "checksum": "13cb736942e50b6a16abefa66ad256ba",
     "grade": true,
     "grade_id": "cell-f187abd9a3ac05f9",
     "locked": true,
     "points": 3,
     "schema_version": 1,
     "solution": false
    }
   },
   "outputs": [
    {
     "name": "stdout",
     "output_type": "stream",
     "text": [
      "\n",
      "*** Tests Passed (5 points) ***\n"
     ]
    },
    {
     "data": {
      "text/plain": [
       "defined \u001b[32mfunction\u001b[39m \u001b[36mpt\u001b[39m\n",
       "defined \u001b[32mfunction\u001b[39m \u001b[36mpf\u001b[39m"
      ]
     },
     "execution_count": 6,
     "metadata": {},
     "output_type": "execute_result"
    }
   ],
   "source": [
    "// Tests empty input\n",
    "def pt(x: Char): Bool = True\n",
    "def pf(x: Char): Bool = False\n",
    "assert(runParser(satisfies(pt), \"\") == None)\n",
    "assert(runParser(satisfies(pf), \"\") == None)\n",
    "passed(5)"
   ]
  },
  {
   "cell_type": "code",
   "execution_count": 7,
   "metadata": {
    "deletable": false,
    "editable": false,
    "nbgrader": {
     "checksum": "fb3fadf8bf1c8cfac0bb6bd7c7aa3479",
     "grade": true,
     "grade_id": "cell-436d829f99091434",
     "locked": true,
     "points": 3,
     "schema_version": 1,
     "solution": false
    }
   },
   "outputs": [
    {
     "name": "stdout",
     "output_type": "stream",
     "text": [
      "\n",
      "*** Tests Passed (3 points) ***\n"
     ]
    }
   ],
   "source": [
    "// Tests all true or false\n",
    "assert(satisfies(pt)(string_to_list(\"a\")) == Cons(('a',Empty),Empty))\n",
    "assert(satisfies(pt)(string_to_list(\"abc\")) == Cons(('a',Cons('b',Cons('c',Empty))),Empty))\n",
    "assert(satisfies(pf)(string_to_list(\"abc\")) == Empty)\n",
    "passed(3)"
   ]
  },
  {
   "cell_type": "code",
   "execution_count": 8,
   "metadata": {
    "deletable": false,
    "editable": false,
    "nbgrader": {
     "checksum": "9663e56ba5ea51153f577d44bcac97bb",
     "grade": true,
     "grade_id": "cell-6f0c86ca3e2b49e2",
     "locked": true,
     "points": 4,
     "schema_version": 1,
     "solution": false
    }
   },
   "outputs": [
    {
     "name": "stdout",
     "output_type": "stream",
     "text": [
      "\n",
      "*** Tests Passed (4 points) ***\n"
     ]
    }
   ],
   "source": [
    "// Tests specific true or false\n",
    "assert(satisfies[Char](char_eq(_, '0'))(string_to_list(\"0bc\")) == Cons(('0',Cons('b',Cons('c',Empty))),Empty))\n",
    "assert(satisfies[Char](char_eq(_, '0'))(string_to_list(\"abc\")) == Empty)\n",
    "passed(4)"
   ]
  },
  {
   "cell_type": "markdown",
   "metadata": {
    "deletable": false,
    "editable": false,
    "nbgrader": {
     "checksum": "8412e896bc1be7c40de1c61eec479fc7",
     "grade": false,
     "grade_id": "cell-6fd4dbc2d8135bf6",
     "locked": true,
     "schema_version": 1,
     "solution": false
    }
   },
   "source": [
    "# Bind - Sequencing our Parses\n",
    "\n",
    "`bind` allows us to sequence parses. It can be a little confusing at first but with some practice it becomes very intuitive to use.\n",
    "\n",
    "The type for bind is: \n",
    "\n",
    "\n",
    "$$\n",
    "\\textbf{bind } : \\underbrace{\\textbf{Parser } S\\ D_1\\ }_{p_1\\text{ - First Parser}}\\rightarrow \\underbrace{(D_1 \\rightarrow \\textbf{Parser } S\\ D_2\\ )}_{p_2\\text{ - Generator for Second Parser}} \\rightarrow \\underbrace{\\textbf{Parser } S\\ D_2}_{p_1p_2\\text{ - Composite Parser} }\n",
    "$$\n",
    "\n",
    "Let's break down each part of this signature:\n",
    "\n",
    "* $p_1$ is the first parser we will use on an input. It will give us a parsed result of type $D_1$. We will then feed this result into the next part.\n",
    "* $p_2$ is a generator for a parser which takes, as an argument something of type $D_1$, and returns a parser which gives results of type $D_2$. `bind` takes the result of running the first parser $p_1$ on some input and then feeds that result into this function, producing the output type for `bind`- $\\textbf{Parser } S\\ D_2$\n",
    "\n",
    "Here is the implementation of `bind`. Don't worry too much about how it works. We will get an intuition for it through some examples."
   ]
  },
  {
   "cell_type": "code",
   "execution_count": 9,
   "metadata": {
    "deletable": false,
    "editable": false,
    "nbgrader": {
     "checksum": "86f5083c4932f285f48d4da19e0866d9",
     "grade": false,
     "grade_id": "cell-7873acfb3c793a27",
     "locked": true,
     "schema_version": 1,
     "solution": false
    }
   },
   "outputs": [
    {
     "data": {
      "text/plain": [
       "defined \u001b[32mfunction\u001b[39m \u001b[36mbind\u001b[39m"
      ]
     },
     "execution_count": 9,
     "metadata": {},
     "output_type": "execute_result"
    }
   ],
   "source": [
    "def bind[S, D, E](p : Parser[S,D], q : (D => Parser[S,E]) ) : Parser[S,E] = \n",
    "  (ss : List[S]) => {\n",
    "      val join = (res : (D, List[S])) => res match {case (d, ss2) => q(d)(ss2)}\n",
    "      concatMap(join, p(ss))\n",
    "  } "
   ]
  },
  {
   "cell_type": "markdown",
   "metadata": {
    "deletable": false,
    "editable": false,
    "nbgrader": {
     "checksum": "b4e4b43c093fc434c59ab61d2bc7f171",
     "grade": false,
     "grade_id": "cell-b3509e0f758972aa",
     "locked": true,
     "schema_version": 1,
     "solution": false
    }
   },
   "source": [
    "## Example 1 - $ a $ then $b$\n",
    "\n",
    "In this example we will write a parser which recognizes the sequence of characters `\"ab\"`. We can begin by defining the parser for the first letter, `'a'`. For this we just need to use `char`:"
   ]
  },
  {
   "cell_type": "code",
   "execution_count": 10,
   "metadata": {
    "deletable": false,
    "editable": false,
    "nbgrader": {
     "checksum": "c67213a121424b5bb7bed5b96ea5387e",
     "grade": false,
     "grade_id": "cell-88a169d9402c254c",
     "locked": true,
     "schema_version": 1,
     "solution": false
    }
   },
   "outputs": [
    {
     "data": {
      "text/plain": [
       "defined \u001b[32mfunction\u001b[39m \u001b[36mparseLetterA\u001b[39m"
      ]
     },
     "execution_count": 10,
     "metadata": {},
     "output_type": "execute_result"
    }
   ],
   "source": [
    "def parseLetterA : Parser[Char,Char] = char('a')"
   ]
  },
  {
   "cell_type": "markdown",
   "metadata": {
    "deletable": false,
    "editable": false,
    "nbgrader": {
     "checksum": "2986b0035a68baa913ed8fa036e94f63",
     "grade": false,
     "grade_id": "cell-751d4b1c74ffdd06",
     "locked": true,
     "schema_version": 1,
     "solution": false
    }
   },
   "source": [
    "`parseLetterA` will be the first argument to `bind`. The next thing we need is a function of type:  $D_1 \\rightarrow \\textbf{Parser } S\\ D_2$\n",
    "\n",
    "We will start by defining the parser for just the letter B:"
   ]
  },
  {
   "cell_type": "code",
   "execution_count": 11,
   "metadata": {
    "deletable": false,
    "editable": false,
    "nbgrader": {
     "checksum": "e94f4a5f29d2faedb2f24934a55d1e6c",
     "grade": false,
     "grade_id": "cell-3560af9fb36fbc0c",
     "locked": true,
     "schema_version": 1,
     "solution": false
    }
   },
   "outputs": [
    {
     "data": {
      "text/plain": [
       "defined \u001b[32mfunction\u001b[39m \u001b[36mparseLetterB\u001b[39m"
      ]
     },
     "execution_count": 11,
     "metadata": {},
     "output_type": "execute_result"
    }
   ],
   "source": [
    "def parseLetterB : Parser[Char, Char] = char('b')"
   ]
  },
  {
   "cell_type": "markdown",
   "metadata": {
    "deletable": false,
    "editable": false,
    "nbgrader": {
     "checksum": "9fe0c540b07d21a6b652137948b70d1f",
     "grade": false,
     "grade_id": "cell-375090945bc67875",
     "locked": true,
     "schema_version": 1,
     "solution": false
    }
   },
   "source": [
    "We would like our parse result to be a list of characters that contains \"ab\"(which makes $D_2 = \\textbf{List Char}$). We also know that the result of the first parser is a character(This means $D_1 = \\textbf{Char}$) This specializes this type to: $\\textbf{Char} \\rightarrow \\textbf{Parser } S\\ (\\textbf{List Char})$. \n"
   ]
  },
  {
   "cell_type": "markdown",
   "metadata": {
    "deletable": false,
    "editable": false,
    "nbgrader": {
     "checksum": "6bc15db32eb1441c8f7f2c20f1fb7af0",
     "grade": false,
     "grade_id": "cell-52e27fe8e4f64ee0",
     "locked": true,
     "schema_version": 1,
     "solution": false
    }
   },
   "source": [
    "We will say that this is a parser that takes a letter and then parses a `'b'`. After doing this it combines them into a list of characters. "
   ]
  },
  {
   "cell_type": "code",
   "execution_count": 12,
   "metadata": {
    "deletable": false,
    "editable": false,
    "nbgrader": {
     "checksum": "70ace27951eb378fcc90f473f5aad8db",
     "grade": false,
     "grade_id": "cell-4a4c5e792595f3e8",
     "locked": true,
     "schema_version": 1,
     "solution": false
    }
   },
   "outputs": [
    {
     "data": {
      "text/plain": [
       "defined \u001b[32mfunction\u001b[39m \u001b[36mparseLetterThenB\u001b[39m"
      ]
     },
     "execution_count": 12,
     "metadata": {},
     "output_type": "execute_result"
    }
   ],
   "source": [
    "def parseLetterThenB(x : Char) : Parser[Char, List[Char]] =\n",
    "    bind(\n",
    "        parseLetterB,\n",
    "        (letterb : Char) => success(Cons(x, Cons(letterb, Empty)))\n",
    "    )"
   ]
  },
  {
   "cell_type": "markdown",
   "metadata": {
    "deletable": false,
    "editable": false,
    "nbgrader": {
     "checksum": "9e1c6bde7bc042a56e8dd88632a340b7",
     "grade": false,
     "grade_id": "cell-c8d73c5aeb9cfc3b",
     "locked": true,
     "schema_version": 1,
     "solution": false
    }
   },
   "source": [
    "Above we provided bind a parser for the letter `'b'` and a lambda-function which takes the result of that parse and combines it with the letter `x` that was passed in as an argument.\n",
    "\n",
    "Now that we have this we can combine it all into our final parser for `\"ab\"`:"
   ]
  },
  {
   "cell_type": "code",
   "execution_count": 13,
   "metadata": {
    "deletable": false,
    "editable": false,
    "nbgrader": {
     "checksum": "5f1fca84003f8eb10abb79b63ae0a99b",
     "grade": false,
     "grade_id": "cell-1ec3cab382cee374",
     "locked": true,
     "schema_version": 1,
     "solution": false
    }
   },
   "outputs": [
    {
     "data": {
      "text/plain": [
       "defined \u001b[32mfunction\u001b[39m \u001b[36mparseAThenB\u001b[39m"
      ]
     },
     "execution_count": 13,
     "metadata": {},
     "output_type": "execute_result"
    }
   ],
   "source": [
    "def parseAThenB : Parser[Char, List[Char]] =\n",
    "    bind(parseLetterA, parseLetterThenB)"
   ]
  },
  {
   "cell_type": "markdown",
   "metadata": {
    "deletable": false,
    "editable": false,
    "nbgrader": {
     "checksum": "c0be84b76c88360316a5a37d62fa3027",
     "grade": false,
     "grade_id": "cell-0e1ec09c6b481a28",
     "locked": true,
     "schema_version": 1,
     "solution": false
    }
   },
   "source": [
    "If we test this we will notice it behaves as we would expect:"
   ]
  },
  {
   "cell_type": "code",
   "execution_count": 14,
   "metadata": {
    "deletable": false,
    "editable": false,
    "nbgrader": {
     "checksum": "1ac184cc7ac84d8b72b1b3f1cd7614b8",
     "grade": false,
     "grade_id": "cell-c12f4a5216665494",
     "locked": true,
     "schema_version": 1,
     "solution": false
    }
   },
   "outputs": [
    {
     "data": {
      "text/plain": [
       "\u001b[36mres13\u001b[39m: \u001b[32mList\u001b[39m[(\u001b[32mList\u001b[39m[\u001b[32mChar\u001b[39m], \u001b[32mList\u001b[39m[\u001b[32mChar\u001b[39m])] = \u001b[33mCons\u001b[39m(\n",
       "  (\u001b[33mCons\u001b[39m(\u001b[32m'a'\u001b[39m, \u001b[33mCons\u001b[39m(\u001b[32m'b'\u001b[39m, Empty)), Empty),\n",
       "  Empty\n",
       ")"
      ]
     },
     "execution_count": 14,
     "metadata": {},
     "output_type": "execute_result"
    }
   ],
   "source": [
    "parseAThenB(string_to_list(\"ab\"))"
   ]
  },
  {
   "cell_type": "markdown",
   "metadata": {
    "deletable": false,
    "editable": false,
    "nbgrader": {
     "checksum": "5761e7fb7ae38628fb1a3f60c1439832",
     "grade": false,
     "grade_id": "cell-40271c31c36734be",
     "locked": true,
     "schema_version": 1,
     "solution": false
    }
   },
   "source": [
    "## Example 2 - $abc$\n",
    "\n",
    "Writing parsers as a bunch of small functions like this often becomes cumbersome so we prefer to write them as a single definition using several calls to `bind` at once. Here is an example of this for the string `\"abc\"`:"
   ]
  },
  {
   "cell_type": "code",
   "execution_count": 15,
   "metadata": {
    "deletable": false,
    "editable": false,
    "nbgrader": {
     "checksum": "9e6f91a52b84a6be335b094a2af227fe",
     "grade": false,
     "grade_id": "cell-d0568516bafb624c",
     "locked": true,
     "schema_version": 1,
     "solution": false
    }
   },
   "outputs": [
    {
     "data": {
      "text/plain": [
       "defined \u001b[32mfunction\u001b[39m \u001b[36mparseABC\u001b[39m"
      ]
     },
     "execution_count": 15,
     "metadata": {},
     "output_type": "execute_result"
    }
   ],
   "source": [
    "def parseABC : Parser[Char, List[Char]]  = bind(char('a'), \n",
    "                           (p_a : Char) => bind(char('b'), \n",
    "                           (p_b : Char) => bind(char('c'),\n",
    "                           (p_c : Char) => success(Cons(p_a, Cons(p_b, Cons(p_c, Empty)))))))"
   ]
  },
  {
   "cell_type": "markdown",
   "metadata": {
    "deletable": false,
    "editable": false,
    "nbgrader": {
     "checksum": "611c7158b9b89c7f3fa2d323b9e4acde",
     "grade": false,
     "grade_id": "cell-ed53d00dc86c3c27",
     "locked": true,
     "schema_version": 1,
     "solution": false
    }
   },
   "source": [
    "Here is a quick proof that it works:"
   ]
  },
  {
   "cell_type": "code",
   "execution_count": 16,
   "metadata": {
    "deletable": false,
    "editable": false,
    "nbgrader": {
     "checksum": "167dfe987122e055fd19a630ec732f01",
     "grade": false,
     "grade_id": "cell-9de7696717d3f314",
     "locked": true,
     "schema_version": 1,
     "solution": false
    }
   },
   "outputs": [
    {
     "data": {
      "text/plain": [
       "\u001b[36mres15_0\u001b[39m: \u001b[32mMaybe\u001b[39m[\u001b[32mList\u001b[39m[\u001b[32mChar\u001b[39m]] = \u001b[33mJust\u001b[39m(\u001b[33mCons\u001b[39m(\u001b[32m'a'\u001b[39m, \u001b[33mCons\u001b[39m(\u001b[32m'b'\u001b[39m, \u001b[33mCons\u001b[39m(\u001b[32m'c'\u001b[39m, Empty))))\n",
       "\u001b[36mres15_1\u001b[39m: \u001b[32mMaybe\u001b[39m[\u001b[32mList\u001b[39m[\u001b[32mChar\u001b[39m]] = None"
      ]
     },
     "execution_count": 16,
     "metadata": {},
     "output_type": "execute_result"
    }
   ],
   "source": [
    "runParser(parseABC, \"abc\")\n",
    "runParser(parseABC, \"xyz\")"
   ]
  },
  {
   "cell_type": "markdown",
   "metadata": {
    "deletable": false,
    "editable": false,
    "nbgrader": {
     "checksum": "892d1f9f1af0f857b37c0dc61d474f35",
     "grade": false,
     "grade_id": "cell-a19de4e3aa923872",
     "locked": true,
     "schema_version": 1,
     "solution": false
    }
   },
   "source": [
    "To read the function above just take each call to `bind` to mean that we are calling a parser and using its result. So on the second line we have $p_a$ which is the character that resulted from parsing $\\text{char}('a')$. In the next bind we have access to both $p_a$ and $p_b$. In the third we have all three results and can combine them into the list we wanted. We need to wrap this list up in `success` so that it has the necessary type($\\textbf{Parser Char (List Char)}$)\n",
    "\n",
    "***Note on Layout*** We strongly recommend laying out calls to bind on multiple lines for readability. It need not be in the same manner as we have done here though. For instance the lambda terms could have been on the same line as their bind call. Any kind of spacing that helps read the code is a good idea here."
   ]
  },
  {
   "cell_type": "markdown",
   "metadata": {
    "deletable": false,
    "editable": false,
    "nbgrader": {
     "checksum": "9053a88eeccd55bb744c35b26fce289a",
     "grade": false,
     "grade_id": "cell-e91804dc7707a137",
     "locked": true,
     "schema_version": 1,
     "solution": false
    }
   },
   "source": [
    "## `string` - A New Combinator\n",
    "\n",
    "The two examples above are examples of a more general class of parsers where we wish to parse some specific combination of characters, or a string. We can write a special parser generator which takes a string and creates a parser for that string:"
   ]
  },
  {
   "cell_type": "code",
   "execution_count": 17,
   "metadata": {
    "deletable": false,
    "editable": false,
    "nbgrader": {
     "checksum": "2dc1bfb708ab2886c86143a44c949a0a",
     "grade": false,
     "grade_id": "cell-826235eb9318bc12",
     "locked": true,
     "schema_version": 1,
     "solution": false
    }
   },
   "outputs": [
    {
     "data": {
      "text/plain": [
       "defined \u001b[32mfunction\u001b[39m \u001b[36mstringL\u001b[39m\n",
       "defined \u001b[32mfunction\u001b[39m \u001b[36mstring\u001b[39m"
      ]
     },
     "execution_count": 17,
     "metadata": {},
     "output_type": "execute_result"
    }
   ],
   "source": [
    "def stringL(ss : List[Char]) : Parser[Char, List[Char]] = ss match {\n",
    "    case Empty      => success(Empty)\n",
    "    case Cons(s,ss) =>        bind(char(s), \n",
    "         (c : Char)        => bind(stringL(ss),\n",
    "         (cs : List[Char]) => success(Cons(c,cs)) ))\n",
    "}\n",
    "\n",
    "def string(str : String) : Parser[Char, List[Char]] = stringL(string_to_list(str))"
   ]
  },
  {
   "cell_type": "code",
   "execution_count": 18,
   "metadata": {
    "deletable": false,
    "editable": false,
    "nbgrader": {
     "checksum": "1fe27f7261bd8a1ce30c6d422343073b",
     "grade": false,
     "grade_id": "cell-7762ff0f03028e44",
     "locked": true,
     "schema_version": 1,
     "solution": false
    }
   },
   "outputs": [
    {
     "data": {
      "text/plain": [
       "\u001b[36mres17\u001b[39m: \u001b[32mMaybe\u001b[39m[\u001b[32mList\u001b[39m[\u001b[32mChar\u001b[39m]] = \u001b[33mJust\u001b[39m(\u001b[33mCons\u001b[39m(\u001b[32m'a'\u001b[39m, \u001b[33mCons\u001b[39m(\u001b[32m'b'\u001b[39m, \u001b[33mCons\u001b[39m(\u001b[32m'c'\u001b[39m, Empty))))"
      ]
     },
     "execution_count": 18,
     "metadata": {},
     "output_type": "execute_result"
    }
   ],
   "source": [
    "runParser(string(\"abc\"), \"abc\")"
   ]
  },
  {
   "cell_type": "markdown",
   "metadata": {
    "deletable": false,
    "editable": false,
    "nbgrader": {
     "checksum": "8199dc3b842fd8d973b602be32846300",
     "grade": false,
     "grade_id": "cell-7dd08140a5dc4d8c",
     "locked": true,
     "schema_version": 1,
     "solution": false
    }
   },
   "source": [
    "# Problem 2 - Lettuce Keywords (10 points)\n",
    "\n",
    "Write a parser, using `string` and `choice` which accepts the strings `\"let\"`, `\"in\"`, `\"function\"`, and `\"rec\"`"
   ]
  },
  {
   "cell_type": "code",
   "execution_count": 19,
   "metadata": {
    "deletable": false,
    "nbgrader": {
     "checksum": "cda6b35429f867c332c33c2fbebd3573",
     "grade": false,
     "grade_id": "cell-4bf895b61a331de1",
     "locked": false,
     "schema_version": 1,
     "solution": true
    }
   },
   "outputs": [
    {
     "data": {
      "text/plain": [
       "defined \u001b[32mfunction\u001b[39m \u001b[36mparseKeywords\u001b[39m"
      ]
     },
     "execution_count": 19,
     "metadata": {},
     "output_type": "execute_result"
    }
   ],
   "source": [
    "def parseKeywords : Parser[Char, List[Char]] = choose(string(\"let\"), \n",
    "                                                      choose(string(\"in\"),\n",
    "                                                            choose(string(\"function\"),\n",
    "                                                                  string(\"rec\"))))\n",
    "    "
   ]
  },
  {
   "cell_type": "markdown",
   "metadata": {
    "deletable": false,
    "editable": false,
    "nbgrader": {
     "checksum": "cb5d9a347c9a9b611671f8f82a00b227",
     "grade": false,
     "grade_id": "cell-19e8340dfb2e30ab",
     "locked": true,
     "schema_version": 1,
     "solution": false
    }
   },
   "source": [
    "If your solution is correct the following examples should be parsed successfully:"
   ]
  },
  {
   "cell_type": "code",
   "execution_count": 20,
   "metadata": {
    "deletable": false,
    "editable": false,
    "nbgrader": {
     "checksum": "06801de1947e742c90f5fe14f4ba6368",
     "grade": true,
     "grade_id": "cell-4e16015d9f0b0249",
     "locked": true,
     "points": 5,
     "schema_version": 1,
     "solution": false
    }
   },
   "outputs": [
    {
     "name": "stdout",
     "output_type": "stream",
     "text": [
      "\n",
      "*** Tests Passed (5 points) ***\n"
     ]
    }
   ],
   "source": [
    "assert(runParser(parseKeywords, \"let\") == Just(string_to_list(\"let\")))\n",
    "assert(runParser(parseKeywords, \"rec\") == Just(string_to_list(\"rec\")))\n",
    "assert(runParser(parseKeywords, \"function\") == Just(string_to_list(\"function\")))\n",
    "assert(runParser(parseKeywords, \"in\") == Just(string_to_list(\"in\")))\n",
    "passed(5)"
   ]
  },
  {
   "cell_type": "markdown",
   "metadata": {
    "deletable": false,
    "editable": false,
    "nbgrader": {
     "checksum": "243a6f0cc128a2c2539d835d4e893b42",
     "grade": false,
     "grade_id": "cell-59a657c352f8a595",
     "locked": true,
     "schema_version": 1,
     "solution": false
    }
   },
   "source": [
    "and the following examples should fail:"
   ]
  },
  {
   "cell_type": "code",
   "execution_count": 21,
   "metadata": {
    "deletable": false,
    "editable": false,
    "nbgrader": {
     "checksum": "04be8fe4dcada94800470157f16ae8b8",
     "grade": true,
     "grade_id": "cell-f34376d8b4e7429a",
     "locked": true,
     "points": 5,
     "schema_version": 1,
     "solution": false
    }
   },
   "outputs": [
    {
     "name": "stdout",
     "output_type": "stream",
     "text": [
      "\n",
      "*** Tests Passed (5 points) ***\n"
     ]
    }
   ],
   "source": [
    "assert(runParser(parseKeywords, \"x\") == None)\n",
    "assert(runParser(parseKeywords, \"or\") == None)\n",
    "assert(runParser(parseKeywords, \"functio\") == None)\n",
    "assert(runParser(parseKeywords, \"ni\") == None)\n",
    "passed(5)"
   ]
  },
  {
   "cell_type": "markdown",
   "metadata": {
    "deletable": false,
    "editable": false,
    "nbgrader": {
     "checksum": "859d17d76b31a6b16dc2a87ba674b62a",
     "grade": false,
     "grade_id": "cell-35086ce21fd4b956",
     "locked": true,
     "schema_version": 1,
     "solution": false
    }
   },
   "source": [
    "# Problem 3 - `mapParser` (10 points)\n",
    "\n",
    "One thing we may want to do to a parser is apply a function to its results. A function that does this could have the type:\n",
    "\n",
    "$$\n",
    "\\text{mapParser} : (A \\rightarrow B) \\rightarrow \\textbf{Parser } S\\ A\\ \\rightarrow \\textbf{Parser } S\\ B\n",
    "$$\n",
    "\n",
    "We do something very much like this by applying cons to the result of our parsers above. Using `bind` write the `mapParser` function below:"
   ]
  },
  {
   "cell_type": "code",
   "execution_count": 22,
   "metadata": {
    "deletable": false,
    "nbgrader": {
     "checksum": "e2a1219cc6155227e178f572de2ccd3d",
     "grade": false,
     "grade_id": "cell-7624154a339c54e1",
     "locked": false,
     "schema_version": 1,
     "solution": true
    }
   },
   "outputs": [
    {
     "data": {
      "text/plain": [
       "defined \u001b[32mfunction\u001b[39m \u001b[36mmapParser\u001b[39m"
      ]
     },
     "execution_count": 22,
     "metadata": {},
     "output_type": "execute_result"
    }
   ],
   "source": [
    "def mapParser[S,A,B](f : (A => B), p : Parser[S,A]) : Parser[S,B] = \n",
    "bind(p, (l: A) => success[S, B](f(l)))\n",
    "    "
   ]
  },
  {
   "cell_type": "code",
   "execution_count": 23,
   "metadata": {
    "deletable": false,
    "editable": false,
    "nbgrader": {
     "checksum": "bd04169ebf2eaae101a56cc82606332f",
     "grade": true,
     "grade_id": "cell-446a7661536dd9b2",
     "locked": true,
     "points": 3,
     "schema_version": 1,
     "solution": false
    }
   },
   "outputs": [
    {
     "name": "stdout",
     "output_type": "stream",
     "text": [
      "\n",
      "*** Tests Passed (3 points) ***\n"
     ]
    }
   ],
   "source": [
    "// Tests Empty input\n",
    "assert(runParser(mapParser(list_to_string, string(\"\")), \"\") == Just(\"\"))\n",
    "passed(3)"
   ]
  },
  {
   "cell_type": "code",
   "execution_count": 24,
   "metadata": {
    "deletable": false,
    "editable": false,
    "nbgrader": {
     "checksum": "d01d9ec69474e65a5c8afc469bc2f925",
     "grade": true,
     "grade_id": "cell-cfe7221671cb62c1",
     "locked": true,
     "points": 4,
     "schema_version": 1,
     "solution": false
    }
   },
   "outputs": [
    {
     "name": "stdout",
     "output_type": "stream",
     "text": [
      "\n",
      "*** Tests Passed (4 points) ***\n"
     ]
    }
   ],
   "source": [
    "// Tests non empty success\n",
    "assert(runParser(mapParser(list_to_string, string(\"abc\")), \"abc\") == Just(\"abc\"))\n",
    "assert(runParser(mapParser(reverse[Char], string(\"abcd\")), \"abcd\") == Just(string_to_list(\"dcba\")))\n",
    "passed(4)"
   ]
  },
  {
   "cell_type": "code",
   "execution_count": 25,
   "metadata": {
    "deletable": false,
    "editable": false,
    "nbgrader": {
     "checksum": "7c2941200c1533f1c65ebc4bf1edb5af",
     "grade": true,
     "grade_id": "cell-e5c273eefd52c81e",
     "locked": true,
     "points": 3,
     "schema_version": 1,
     "solution": false
    }
   },
   "outputs": [
    {
     "name": "stdout",
     "output_type": "stream",
     "text": [
      "\n",
      "*** Tests Passed (3 points) ***\n"
     ]
    }
   ],
   "source": [
    "// Tests failure\n",
    "assert(runParser(mapParser(list_to_string, string(\"abc\")), \"xyz\") == None)\n",
    "passed(3)"
   ]
  },
  {
   "cell_type": "code",
   "execution_count": null,
   "metadata": {},
   "outputs": [],
   "source": []
  }
 ],
 "metadata": {
  "kernelspec": {
   "display_name": "Scala",
   "language": "scala",
   "name": "scala"
  },
  "language_info": {
   "codemirror_mode": "text/x-scala",
   "file_extension": ".scala",
   "mimetype": "text/x-scala",
   "name": "scala",
   "nbconvert_exporter": "script",
   "version": "2.12.9"
  }
 },
 "nbformat": 4,
 "nbformat_minor": 2
}
